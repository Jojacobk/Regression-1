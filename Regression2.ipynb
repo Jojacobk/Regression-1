{
 "cells": [
  {
   "cell_type": "markdown",
   "id": "62329d0a",
   "metadata": {},
   "source": [
    "Installing necessary libraries in Jupyter"
   ]
  },
  {
   "cell_type": "code",
   "execution_count": 1,
   "id": "6d3cd8ba",
   "metadata": {},
   "outputs": [
    {
     "name": "stdout",
     "output_type": "stream",
     "text": [
      "Requirement already satisfied: pandas in c:\\users\\jo\\anaconda3\\envs\\notebook\\lib\\site-packages (2.1.0)\n",
      "Requirement already satisfied: numpy>=1.23.2 in c:\\users\\jo\\anaconda3\\envs\\notebook\\lib\\site-packages (from pandas) (1.24.3)\n",
      "Requirement already satisfied: python-dateutil>=2.8.2 in c:\\users\\jo\\anaconda3\\envs\\notebook\\lib\\site-packages (from pandas) (2.8.2)\n",
      "Requirement already satisfied: pytz>=2020.1 in c:\\users\\jo\\anaconda3\\envs\\notebook\\lib\\site-packages (from pandas) (2023.3)\n",
      "Requirement already satisfied: tzdata>=2022.1 in c:\\users\\jo\\anaconda3\\envs\\notebook\\lib\\site-packages (from pandas) (2023.3)\n",
      "Requirement already satisfied: six>=1.5 in c:\\users\\jo\\anaconda3\\envs\\notebook\\lib\\site-packages (from python-dateutil>=2.8.2->pandas) (1.16.0)\n",
      "Requirement already satisfied: numpy in c:\\users\\jo\\anaconda3\\envs\\notebook\\lib\\site-packages (1.24.3)\n",
      "Requirement already satisfied: tensorflow in c:\\users\\jo\\anaconda3\\envs\\notebook\\lib\\site-packages (2.13.0)\n",
      "Requirement already satisfied: tensorflow-intel==2.13.0 in c:\\users\\jo\\anaconda3\\envs\\notebook\\lib\\site-packages (from tensorflow) (2.13.0)\n",
      "Requirement already satisfied: absl-py>=1.0.0 in c:\\users\\jo\\anaconda3\\envs\\notebook\\lib\\site-packages (from tensorflow-intel==2.13.0->tensorflow) (1.4.0)\n",
      "Requirement already satisfied: astunparse>=1.6.0 in c:\\users\\jo\\anaconda3\\envs\\notebook\\lib\\site-packages (from tensorflow-intel==2.13.0->tensorflow) (1.6.3)\n",
      "Requirement already satisfied: flatbuffers>=23.1.21 in c:\\users\\jo\\anaconda3\\envs\\notebook\\lib\\site-packages (from tensorflow-intel==2.13.0->tensorflow) (23.5.26)\n",
      "Requirement already satisfied: gast<=0.4.0,>=0.2.1 in c:\\users\\jo\\anaconda3\\envs\\notebook\\lib\\site-packages (from tensorflow-intel==2.13.0->tensorflow) (0.4.0)\n",
      "Requirement already satisfied: google-pasta>=0.1.1 in c:\\users\\jo\\anaconda3\\envs\\notebook\\lib\\site-packages (from tensorflow-intel==2.13.0->tensorflow) (0.2.0)\n",
      "Requirement already satisfied: h5py>=2.9.0 in c:\\users\\jo\\anaconda3\\envs\\notebook\\lib\\site-packages (from tensorflow-intel==2.13.0->tensorflow) (3.9.0)\n",
      "Requirement already satisfied: libclang>=13.0.0 in c:\\users\\jo\\anaconda3\\envs\\notebook\\lib\\site-packages (from tensorflow-intel==2.13.0->tensorflow) (16.0.6)\n",
      "Requirement already satisfied: numpy<=1.24.3,>=1.22 in c:\\users\\jo\\anaconda3\\envs\\notebook\\lib\\site-packages (from tensorflow-intel==2.13.0->tensorflow) (1.24.3)\n",
      "Requirement already satisfied: opt-einsum>=2.3.2 in c:\\users\\jo\\anaconda3\\envs\\notebook\\lib\\site-packages (from tensorflow-intel==2.13.0->tensorflow) (3.3.0)\n",
      "Requirement already satisfied: packaging in c:\\users\\jo\\anaconda3\\envs\\notebook\\lib\\site-packages (from tensorflow-intel==2.13.0->tensorflow) (23.1)\n",
      "Requirement already satisfied: protobuf!=4.21.0,!=4.21.1,!=4.21.2,!=4.21.3,!=4.21.4,!=4.21.5,<5.0.0dev,>=3.20.3 in c:\\users\\jo\\anaconda3\\envs\\notebook\\lib\\site-packages (from tensorflow-intel==2.13.0->tensorflow) (4.24.2)\n",
      "Requirement already satisfied: setuptools in c:\\users\\jo\\anaconda3\\envs\\notebook\\lib\\site-packages (from tensorflow-intel==2.13.0->tensorflow) (68.0.0)\n",
      "Requirement already satisfied: six>=1.12.0 in c:\\users\\jo\\anaconda3\\envs\\notebook\\lib\\site-packages (from tensorflow-intel==2.13.0->tensorflow) (1.16.0)\n",
      "Requirement already satisfied: termcolor>=1.1.0 in c:\\users\\jo\\anaconda3\\envs\\notebook\\lib\\site-packages (from tensorflow-intel==2.13.0->tensorflow) (2.3.0)\n",
      "Requirement already satisfied: typing-extensions<4.6.0,>=3.6.6 in c:\\users\\jo\\anaconda3\\envs\\notebook\\lib\\site-packages (from tensorflow-intel==2.13.0->tensorflow) (4.5.0)\n",
      "Requirement already satisfied: wrapt>=1.11.0 in c:\\users\\jo\\anaconda3\\envs\\notebook\\lib\\site-packages (from tensorflow-intel==2.13.0->tensorflow) (1.15.0)\n",
      "Requirement already satisfied: grpcio<2.0,>=1.24.3 in c:\\users\\jo\\anaconda3\\envs\\notebook\\lib\\site-packages (from tensorflow-intel==2.13.0->tensorflow) (1.57.0)\n",
      "Requirement already satisfied: tensorboard<2.14,>=2.13 in c:\\users\\jo\\anaconda3\\envs\\notebook\\lib\\site-packages (from tensorflow-intel==2.13.0->tensorflow) (2.13.0)\n",
      "Requirement already satisfied: tensorflow-estimator<2.14,>=2.13.0 in c:\\users\\jo\\anaconda3\\envs\\notebook\\lib\\site-packages (from tensorflow-intel==2.13.0->tensorflow) (2.13.0)\n",
      "Requirement already satisfied: keras<2.14,>=2.13.1 in c:\\users\\jo\\anaconda3\\envs\\notebook\\lib\\site-packages (from tensorflow-intel==2.13.0->tensorflow) (2.13.1)\n",
      "Requirement already satisfied: tensorflow-io-gcs-filesystem>=0.23.1 in c:\\users\\jo\\anaconda3\\envs\\notebook\\lib\\site-packages (from tensorflow-intel==2.13.0->tensorflow) (0.31.0)\n",
      "Requirement already satisfied: wheel<1.0,>=0.23.0 in c:\\users\\jo\\anaconda3\\envs\\notebook\\lib\\site-packages (from astunparse>=1.6.0->tensorflow-intel==2.13.0->tensorflow) (0.38.4)\n",
      "Requirement already satisfied: google-auth<3,>=1.6.3 in c:\\users\\jo\\anaconda3\\envs\\notebook\\lib\\site-packages (from tensorboard<2.14,>=2.13->tensorflow-intel==2.13.0->tensorflow) (2.22.0)\n",
      "Requirement already satisfied: google-auth-oauthlib<1.1,>=0.5 in c:\\users\\jo\\anaconda3\\envs\\notebook\\lib\\site-packages (from tensorboard<2.14,>=2.13->tensorflow-intel==2.13.0->tensorflow) (1.0.0)\n",
      "Requirement already satisfied: markdown>=2.6.8 in c:\\users\\jo\\anaconda3\\envs\\notebook\\lib\\site-packages (from tensorboard<2.14,>=2.13->tensorflow-intel==2.13.0->tensorflow) (3.4.4)\n",
      "Requirement already satisfied: requests<3,>=2.21.0 in c:\\users\\jo\\anaconda3\\envs\\notebook\\lib\\site-packages (from tensorboard<2.14,>=2.13->tensorflow-intel==2.13.0->tensorflow) (2.31.0)\n",
      "Requirement already satisfied: tensorboard-data-server<0.8.0,>=0.7.0 in c:\\users\\jo\\anaconda3\\envs\\notebook\\lib\\site-packages (from tensorboard<2.14,>=2.13->tensorflow-intel==2.13.0->tensorflow) (0.7.1)\n",
      "Requirement already satisfied: werkzeug>=1.0.1 in c:\\users\\jo\\anaconda3\\envs\\notebook\\lib\\site-packages (from tensorboard<2.14,>=2.13->tensorflow-intel==2.13.0->tensorflow) (2.3.7)\n",
      "Requirement already satisfied: cachetools<6.0,>=2.0.0 in c:\\users\\jo\\anaconda3\\envs\\notebook\\lib\\site-packages (from google-auth<3,>=1.6.3->tensorboard<2.14,>=2.13->tensorflow-intel==2.13.0->tensorflow) (5.3.1)\n",
      "Requirement already satisfied: pyasn1-modules>=0.2.1 in c:\\users\\jo\\anaconda3\\envs\\notebook\\lib\\site-packages (from google-auth<3,>=1.6.3->tensorboard<2.14,>=2.13->tensorflow-intel==2.13.0->tensorflow) (0.3.0)\n",
      "Requirement already satisfied: rsa<5,>=3.1.4 in c:\\users\\jo\\anaconda3\\envs\\notebook\\lib\\site-packages (from google-auth<3,>=1.6.3->tensorboard<2.14,>=2.13->tensorflow-intel==2.13.0->tensorflow) (4.9)\n",
      "Requirement already satisfied: urllib3<2.0 in c:\\users\\jo\\anaconda3\\envs\\notebook\\lib\\site-packages (from google-auth<3,>=1.6.3->tensorboard<2.14,>=2.13->tensorflow-intel==2.13.0->tensorflow) (1.26.16)\n",
      "Requirement already satisfied: requests-oauthlib>=0.7.0 in c:\\users\\jo\\anaconda3\\envs\\notebook\\lib\\site-packages (from google-auth-oauthlib<1.1,>=0.5->tensorboard<2.14,>=2.13->tensorflow-intel==2.13.0->tensorflow) (1.3.1)\n",
      "Requirement already satisfied: charset-normalizer<4,>=2 in c:\\users\\jo\\anaconda3\\envs\\notebook\\lib\\site-packages (from requests<3,>=2.21.0->tensorboard<2.14,>=2.13->tensorflow-intel==2.13.0->tensorflow) (3.2.0)\n",
      "Requirement already satisfied: idna<4,>=2.5 in c:\\users\\jo\\anaconda3\\envs\\notebook\\lib\\site-packages (from requests<3,>=2.21.0->tensorboard<2.14,>=2.13->tensorflow-intel==2.13.0->tensorflow) (3.4)\n",
      "Requirement already satisfied: certifi>=2017.4.17 in c:\\users\\jo\\anaconda3\\envs\\notebook\\lib\\site-packages (from requests<3,>=2.21.0->tensorboard<2.14,>=2.13->tensorflow-intel==2.13.0->tensorflow) (2023.7.22)\n",
      "Requirement already satisfied: MarkupSafe>=2.1.1 in c:\\users\\jo\\anaconda3\\envs\\notebook\\lib\\site-packages (from werkzeug>=1.0.1->tensorboard<2.14,>=2.13->tensorflow-intel==2.13.0->tensorflow) (2.1.1)\n",
      "Requirement already satisfied: pyasn1<0.6.0,>=0.4.6 in c:\\users\\jo\\anaconda3\\envs\\notebook\\lib\\site-packages (from pyasn1-modules>=0.2.1->google-auth<3,>=1.6.3->tensorboard<2.14,>=2.13->tensorflow-intel==2.13.0->tensorflow) (0.5.0)\n",
      "Requirement already satisfied: oauthlib>=3.0.0 in c:\\users\\jo\\anaconda3\\envs\\notebook\\lib\\site-packages (from requests-oauthlib>=0.7.0->google-auth-oauthlib<1.1,>=0.5->tensorboard<2.14,>=2.13->tensorflow-intel==2.13.0->tensorflow) (3.2.2)\n",
      "Requirement already satisfied: keras in c:\\users\\jo\\anaconda3\\envs\\notebook\\lib\\site-packages (2.13.1)\n"
     ]
    },
    {
     "name": "stdout",
     "output_type": "stream",
     "text": [
      "Requirement already satisfied: scikit-learn in c:\\users\\jo\\anaconda3\\envs\\notebook\\lib\\site-packages (1.3.0)\n",
      "Requirement already satisfied: numpy>=1.17.3 in c:\\users\\jo\\anaconda3\\envs\\notebook\\lib\\site-packages (from scikit-learn) (1.24.3)\n",
      "Requirement already satisfied: scipy>=1.5.0 in c:\\users\\jo\\anaconda3\\envs\\notebook\\lib\\site-packages (from scikit-learn) (1.11.2)\n",
      "Requirement already satisfied: joblib>=1.1.1 in c:\\users\\jo\\anaconda3\\envs\\notebook\\lib\\site-packages (from scikit-learn) (1.3.2)\n",
      "Requirement already satisfied: threadpoolctl>=2.0.0 in c:\\users\\jo\\anaconda3\\envs\\notebook\\lib\\site-packages (from scikit-learn) (3.2.0)\n"
     ]
    }
   ],
   "source": [
    "!pip install pandas\n",
    "!pip install numpy\n",
    "!pip install tensorflow\n",
    "!pip install keras\n",
    "!pip install scikit-learn"
   ]
  },
  {
   "cell_type": "markdown",
   "id": "6672ae02",
   "metadata": {},
   "source": [
    "Importing the libraries"
   ]
  },
  {
   "cell_type": "code",
   "execution_count": 2,
   "id": "d481f772",
   "metadata": {},
   "outputs": [],
   "source": [
    "import pandas as pd\n",
    "import numpy as np\n",
    "import keras\n",
    "from keras.models import Sequential\n",
    "from keras.layers import Dense\n",
    "from sklearn.model_selection import train_test_split"
   ]
  },
  {
   "cell_type": "markdown",
   "id": "97383608",
   "metadata": {},
   "source": [
    "Downloading data and reading it into a pandas framework"
   ]
  },
  {
   "cell_type": "code",
   "execution_count": 3,
   "id": "38fb0ebf",
   "metadata": {},
   "outputs": [
    {
     "data": {
      "text/html": [
       "<div>\n",
       "<style scoped>\n",
       "    .dataframe tbody tr th:only-of-type {\n",
       "        vertical-align: middle;\n",
       "    }\n",
       "\n",
       "    .dataframe tbody tr th {\n",
       "        vertical-align: top;\n",
       "    }\n",
       "\n",
       "    .dataframe thead th {\n",
       "        text-align: right;\n",
       "    }\n",
       "</style>\n",
       "<table border=\"1\" class=\"dataframe\">\n",
       "  <thead>\n",
       "    <tr style=\"text-align: right;\">\n",
       "      <th></th>\n",
       "      <th>Cement</th>\n",
       "      <th>Blast Furnace Slag</th>\n",
       "      <th>Fly Ash</th>\n",
       "      <th>Water</th>\n",
       "      <th>Superplasticizer</th>\n",
       "      <th>Coarse Aggregate</th>\n",
       "      <th>Fine Aggregate</th>\n",
       "      <th>Age</th>\n",
       "      <th>Strength</th>\n",
       "    </tr>\n",
       "  </thead>\n",
       "  <tbody>\n",
       "    <tr>\n",
       "      <th>0</th>\n",
       "      <td>540.0</td>\n",
       "      <td>0.0</td>\n",
       "      <td>0.0</td>\n",
       "      <td>162.0</td>\n",
       "      <td>2.5</td>\n",
       "      <td>1040.0</td>\n",
       "      <td>676.0</td>\n",
       "      <td>28</td>\n",
       "      <td>79.99</td>\n",
       "    </tr>\n",
       "    <tr>\n",
       "      <th>1</th>\n",
       "      <td>540.0</td>\n",
       "      <td>0.0</td>\n",
       "      <td>0.0</td>\n",
       "      <td>162.0</td>\n",
       "      <td>2.5</td>\n",
       "      <td>1055.0</td>\n",
       "      <td>676.0</td>\n",
       "      <td>28</td>\n",
       "      <td>61.89</td>\n",
       "    </tr>\n",
       "    <tr>\n",
       "      <th>2</th>\n",
       "      <td>332.5</td>\n",
       "      <td>142.5</td>\n",
       "      <td>0.0</td>\n",
       "      <td>228.0</td>\n",
       "      <td>0.0</td>\n",
       "      <td>932.0</td>\n",
       "      <td>594.0</td>\n",
       "      <td>270</td>\n",
       "      <td>40.27</td>\n",
       "    </tr>\n",
       "    <tr>\n",
       "      <th>3</th>\n",
       "      <td>332.5</td>\n",
       "      <td>142.5</td>\n",
       "      <td>0.0</td>\n",
       "      <td>228.0</td>\n",
       "      <td>0.0</td>\n",
       "      <td>932.0</td>\n",
       "      <td>594.0</td>\n",
       "      <td>365</td>\n",
       "      <td>41.05</td>\n",
       "    </tr>\n",
       "    <tr>\n",
       "      <th>4</th>\n",
       "      <td>198.6</td>\n",
       "      <td>132.4</td>\n",
       "      <td>0.0</td>\n",
       "      <td>192.0</td>\n",
       "      <td>0.0</td>\n",
       "      <td>978.4</td>\n",
       "      <td>825.5</td>\n",
       "      <td>360</td>\n",
       "      <td>44.30</td>\n",
       "    </tr>\n",
       "  </tbody>\n",
       "</table>\n",
       "</div>"
      ],
      "text/plain": [
       "   Cement  Blast Furnace Slag  Fly Ash  Water  Superplasticizer  \\\n",
       "0   540.0                 0.0      0.0  162.0               2.5   \n",
       "1   540.0                 0.0      0.0  162.0               2.5   \n",
       "2   332.5               142.5      0.0  228.0               0.0   \n",
       "3   332.5               142.5      0.0  228.0               0.0   \n",
       "4   198.6               132.4      0.0  192.0               0.0   \n",
       "\n",
       "   Coarse Aggregate  Fine Aggregate  Age  Strength  \n",
       "0            1040.0           676.0   28     79.99  \n",
       "1            1055.0           676.0   28     61.89  \n",
       "2             932.0           594.0  270     40.27  \n",
       "3             932.0           594.0  365     41.05  \n",
       "4             978.4           825.5  360     44.30  "
      ]
     },
     "execution_count": 3,
     "metadata": {},
     "output_type": "execute_result"
    }
   ],
   "source": [
    "cd = pd.read_csv('https://cocl.us/concrete_data')\n",
    "cd.head()"
   ]
  },
  {
   "cell_type": "markdown",
   "id": "d4f5c5b4",
   "metadata": {},
   "source": [
    "Checking the data points"
   ]
  },
  {
   "cell_type": "code",
   "execution_count": 4,
   "id": "7f6adf5a",
   "metadata": {},
   "outputs": [
    {
     "name": "stdout",
     "output_type": "stream",
     "text": [
      "<class 'pandas.core.frame.DataFrame'>\n",
      "RangeIndex: 1030 entries, 0 to 1029\n",
      "Data columns (total 9 columns):\n",
      " #   Column              Non-Null Count  Dtype  \n",
      "---  ------              --------------  -----  \n",
      " 0   Cement              1030 non-null   float64\n",
      " 1   Blast Furnace Slag  1030 non-null   float64\n",
      " 2   Fly Ash             1030 non-null   float64\n",
      " 3   Water               1030 non-null   float64\n",
      " 4   Superplasticizer    1030 non-null   float64\n",
      " 5   Coarse Aggregate    1030 non-null   float64\n",
      " 6   Fine Aggregate      1030 non-null   float64\n",
      " 7   Age                 1030 non-null   int64  \n",
      " 8   Strength            1030 non-null   float64\n",
      "dtypes: float64(8), int64(1)\n",
      "memory usage: 72.6 KB\n"
     ]
    },
    {
     "data": {
      "text/plain": [
       "(1030, 9)"
      ]
     },
     "execution_count": 4,
     "metadata": {},
     "output_type": "execute_result"
    }
   ],
   "source": [
    "cd.info()\n",
    "\n",
    "cd.shape"
   ]
  },
  {
   "cell_type": "markdown",
   "id": "0e9a6085",
   "metadata": {},
   "source": [
    "Searching the dataset for missing values"
   ]
  },
  {
   "cell_type": "code",
   "execution_count": 5,
   "id": "2ae67dba",
   "metadata": {},
   "outputs": [
    {
     "data": {
      "text/plain": [
       "Cement                0\n",
       "Blast Furnace Slag    0\n",
       "Fly Ash               0\n",
       "Water                 0\n",
       "Superplasticizer      0\n",
       "Coarse Aggregate      0\n",
       "Fine Aggregate        0\n",
       "Age                   0\n",
       "Strength              0\n",
       "dtype: int64"
      ]
     },
     "execution_count": 5,
     "metadata": {},
     "output_type": "execute_result"
    }
   ],
   "source": [
    "cd.describe()\n",
    "cd.isnull().sum()"
   ]
  },
  {
   "cell_type": "markdown",
   "id": "369f567c",
   "metadata": {},
   "source": [
    "Splitting data into predictors and target"
   ]
  },
  {
   "cell_type": "code",
   "execution_count": 6,
   "id": "241416b7",
   "metadata": {},
   "outputs": [],
   "source": [
    "cd_columns = cd.columns\n",
    "\n",
    "predictors = cd[cd_columns[cd_columns != 'Strength']] # all columns except Strength\n",
    "target = cd['Strength'] # Strength column"
   ]
  },
  {
   "cell_type": "markdown",
   "id": "15888a21",
   "metadata": {},
   "source": [
    "Sanity check of the predictors and target"
   ]
  },
  {
   "cell_type": "code",
   "execution_count": 7,
   "id": "ffb07f01",
   "metadata": {},
   "outputs": [
    {
     "data": {
      "text/plain": [
       "0    79.99\n",
       "1    61.89\n",
       "2    40.27\n",
       "3    41.05\n",
       "4    44.30\n",
       "Name: Strength, dtype: float64"
      ]
     },
     "execution_count": 7,
     "metadata": {},
     "output_type": "execute_result"
    }
   ],
   "source": [
    "predictors.head()\n",
    "target.head()"
   ]
  },
  {
   "cell_type": "markdown",
   "id": "1bb9ddbf",
   "metadata": {},
   "source": [
    "# Normalising the data"
   ]
  },
  {
   "cell_type": "code",
   "execution_count": 8,
   "id": "150f813d",
   "metadata": {},
   "outputs": [
    {
     "data": {
      "text/html": [
       "<div>\n",
       "<style scoped>\n",
       "    .dataframe tbody tr th:only-of-type {\n",
       "        vertical-align: middle;\n",
       "    }\n",
       "\n",
       "    .dataframe tbody tr th {\n",
       "        vertical-align: top;\n",
       "    }\n",
       "\n",
       "    .dataframe thead th {\n",
       "        text-align: right;\n",
       "    }\n",
       "</style>\n",
       "<table border=\"1\" class=\"dataframe\">\n",
       "  <thead>\n",
       "    <tr style=\"text-align: right;\">\n",
       "      <th></th>\n",
       "      <th>Cement</th>\n",
       "      <th>Blast Furnace Slag</th>\n",
       "      <th>Fly Ash</th>\n",
       "      <th>Water</th>\n",
       "      <th>Superplasticizer</th>\n",
       "      <th>Coarse Aggregate</th>\n",
       "      <th>Fine Aggregate</th>\n",
       "      <th>Age</th>\n",
       "    </tr>\n",
       "  </thead>\n",
       "  <tbody>\n",
       "    <tr>\n",
       "      <th>0</th>\n",
       "      <td>2.476712</td>\n",
       "      <td>-0.856472</td>\n",
       "      <td>-0.846733</td>\n",
       "      <td>-0.916319</td>\n",
       "      <td>-0.620147</td>\n",
       "      <td>0.862735</td>\n",
       "      <td>-1.217079</td>\n",
       "      <td>-0.279597</td>\n",
       "    </tr>\n",
       "    <tr>\n",
       "      <th>1</th>\n",
       "      <td>2.476712</td>\n",
       "      <td>-0.856472</td>\n",
       "      <td>-0.846733</td>\n",
       "      <td>-0.916319</td>\n",
       "      <td>-0.620147</td>\n",
       "      <td>1.055651</td>\n",
       "      <td>-1.217079</td>\n",
       "      <td>-0.279597</td>\n",
       "    </tr>\n",
       "    <tr>\n",
       "      <th>2</th>\n",
       "      <td>0.491187</td>\n",
       "      <td>0.795140</td>\n",
       "      <td>-0.846733</td>\n",
       "      <td>2.174405</td>\n",
       "      <td>-1.038638</td>\n",
       "      <td>-0.526262</td>\n",
       "      <td>-2.239829</td>\n",
       "      <td>3.551340</td>\n",
       "    </tr>\n",
       "    <tr>\n",
       "      <th>3</th>\n",
       "      <td>0.491187</td>\n",
       "      <td>0.795140</td>\n",
       "      <td>-0.846733</td>\n",
       "      <td>2.174405</td>\n",
       "      <td>-1.038638</td>\n",
       "      <td>-0.526262</td>\n",
       "      <td>-2.239829</td>\n",
       "      <td>5.055221</td>\n",
       "    </tr>\n",
       "    <tr>\n",
       "      <th>4</th>\n",
       "      <td>-0.790075</td>\n",
       "      <td>0.678079</td>\n",
       "      <td>-0.846733</td>\n",
       "      <td>0.488555</td>\n",
       "      <td>-1.038638</td>\n",
       "      <td>0.070492</td>\n",
       "      <td>0.647569</td>\n",
       "      <td>4.976069</td>\n",
       "    </tr>\n",
       "  </tbody>\n",
       "</table>\n",
       "</div>"
      ],
      "text/plain": [
       "     Cement  Blast Furnace Slag   Fly Ash     Water  Superplasticizer  \\\n",
       "0  2.476712           -0.856472 -0.846733 -0.916319         -0.620147   \n",
       "1  2.476712           -0.856472 -0.846733 -0.916319         -0.620147   \n",
       "2  0.491187            0.795140 -0.846733  2.174405         -1.038638   \n",
       "3  0.491187            0.795140 -0.846733  2.174405         -1.038638   \n",
       "4 -0.790075            0.678079 -0.846733  0.488555         -1.038638   \n",
       "\n",
       "   Coarse Aggregate  Fine Aggregate       Age  \n",
       "0          0.862735       -1.217079 -0.279597  \n",
       "1          1.055651       -1.217079 -0.279597  \n",
       "2         -0.526262       -2.239829  3.551340  \n",
       "3         -0.526262       -2.239829  5.055221  \n",
       "4          0.070492        0.647569  4.976069  "
      ]
     },
     "execution_count": 8,
     "metadata": {},
     "output_type": "execute_result"
    }
   ],
   "source": [
    "predictors_norm = (predictors - predictors.mean()) / predictors.std()\n",
    "predictors_norm.head()"
   ]
  },
  {
   "cell_type": "markdown",
   "id": "5014356e",
   "metadata": {},
   "source": [
    "saving the number of predictors to n_cols"
   ]
  },
  {
   "cell_type": "code",
   "execution_count": 9,
   "id": "56ac8e8f",
   "metadata": {},
   "outputs": [],
   "source": [
    "n_cols = predictors.shape[1]"
   ]
  },
  {
   "cell_type": "markdown",
   "id": "a9c8c5ec",
   "metadata": {},
   "source": [
    "Defining regression model"
   ]
  },
  {
   "cell_type": "code",
   "execution_count": 10,
   "id": "88f7f67a",
   "metadata": {},
   "outputs": [],
   "source": [
    "def regression_model():\n",
    "    # create model\n",
    "    model = Sequential()\n",
    "    model.add(Dense(10,activation='relu', input_shape=(n_cols,)))\n",
    "    model.add(Dense(1))\n",
    "    \n",
    "    # compile model\n",
    "    model.compile(optimizer='adam', loss='mean_squared_error')\n",
    "    return model\n",
    "\n",
    "\n"
   ]
  },
  {
   "cell_type": "markdown",
   "id": "cd1b9c31",
   "metadata": {},
   "source": [
    "Train Test Split"
   ]
  },
  {
   "cell_type": "code",
   "execution_count": 11,
   "id": "e2b12a8d",
   "metadata": {},
   "outputs": [],
   "source": [
    "X_train, X_test, y_train, y_test = train_test_split(predictors, target, test_size=0.3, random_state=42)"
   ]
  },
  {
   "cell_type": "markdown",
   "id": "ff9be4f1",
   "metadata": {},
   "source": [
    "Build the model"
   ]
  },
  {
   "cell_type": "code",
   "execution_count": 12,
   "id": "348aecfe",
   "metadata": {},
   "outputs": [],
   "source": [
    "model = regression_model()"
   ]
  },
  {
   "cell_type": "markdown",
   "id": "55547771",
   "metadata": {},
   "source": [
    "fit the model"
   ]
  },
  {
   "cell_type": "code",
   "execution_count": 13,
   "id": "09baa565",
   "metadata": {},
   "outputs": [
    {
     "name": "stdout",
     "output_type": "stream",
     "text": [
      "Epoch 1/50\n",
      "23/23 [==============================] - 1s 9ms/step - loss: 23499.5312 - val_loss: 7843.8931\n",
      "Epoch 2/50\n",
      "23/23 [==============================] - 0s 3ms/step - loss: 4530.3018 - val_loss: 3063.2932\n",
      "Epoch 3/50\n",
      "23/23 [==============================] - 0s 2ms/step - loss: 3028.6826 - val_loss: 2892.6951\n",
      "Epoch 4/50\n",
      "23/23 [==============================] - 0s 2ms/step - loss: 2825.8569 - val_loss: 2656.4622\n",
      "Epoch 5/50\n",
      "23/23 [==============================] - 0s 3ms/step - loss: 2636.4470 - val_loss: 2440.5334\n",
      "Epoch 6/50\n",
      "23/23 [==============================] - 0s 3ms/step - loss: 2453.9631 - val_loss: 2222.1326\n",
      "Epoch 7/50\n",
      "23/23 [==============================] - 0s 2ms/step - loss: 2268.8369 - val_loss: 2006.2349\n",
      "Epoch 8/50\n",
      "23/23 [==============================] - 0s 2ms/step - loss: 2081.7544 - val_loss: 1799.9114\n",
      "Epoch 9/50\n",
      "23/23 [==============================] - 0s 3ms/step - loss: 1903.1633 - val_loss: 1605.6239\n",
      "Epoch 10/50\n",
      "23/23 [==============================] - 0s 3ms/step - loss: 1732.9038 - val_loss: 1440.4421\n",
      "Epoch 11/50\n",
      "23/23 [==============================] - 0s 3ms/step - loss: 1580.4373 - val_loss: 1287.8087\n",
      "Epoch 12/50\n",
      "23/23 [==============================] - 0s 4ms/step - loss: 1438.6097 - val_loss: 1158.1050\n",
      "Epoch 13/50\n",
      "23/23 [==============================] - 0s 3ms/step - loss: 1316.1624 - val_loss: 1035.1412\n",
      "Epoch 14/50\n",
      "23/23 [==============================] - 0s 4ms/step - loss: 1202.4171 - val_loss: 928.8685\n",
      "Epoch 15/50\n",
      "23/23 [==============================] - 0s 3ms/step - loss: 1104.8904 - val_loss: 843.0998\n",
      "Epoch 16/50\n",
      "23/23 [==============================] - 0s 3ms/step - loss: 1010.1613 - val_loss: 757.8299\n",
      "Epoch 17/50\n",
      "23/23 [==============================] - 0s 3ms/step - loss: 928.3220 - val_loss: 684.9432\n",
      "Epoch 18/50\n",
      "23/23 [==============================] - 0s 3ms/step - loss: 854.2000 - val_loss: 621.6365\n",
      "Epoch 19/50\n",
      "23/23 [==============================] - 0s 3ms/step - loss: 788.3792 - val_loss: 572.3737\n",
      "Epoch 20/50\n",
      "23/23 [==============================] - 0s 3ms/step - loss: 724.1924 - val_loss: 518.5475\n",
      "Epoch 21/50\n",
      "23/23 [==============================] - 0s 3ms/step - loss: 669.1850 - val_loss: 473.8245\n",
      "Epoch 22/50\n",
      "23/23 [==============================] - 0s 4ms/step - loss: 617.7429 - val_loss: 443.5516\n",
      "Epoch 23/50\n",
      "23/23 [==============================] - 0s 3ms/step - loss: 573.3060 - val_loss: 410.5735\n",
      "Epoch 24/50\n",
      "23/23 [==============================] - 0s 3ms/step - loss: 533.3675 - val_loss: 378.3521\n",
      "Epoch 25/50\n",
      "23/23 [==============================] - 0s 3ms/step - loss: 497.4843 - val_loss: 354.8658\n",
      "Epoch 26/50\n",
      "23/23 [==============================] - 0s 2ms/step - loss: 461.0562 - val_loss: 344.7997\n",
      "Epoch 27/50\n",
      "23/23 [==============================] - 0s 2ms/step - loss: 434.7268 - val_loss: 320.8835\n",
      "Epoch 28/50\n",
      "23/23 [==============================] - 0s 2ms/step - loss: 402.5258 - val_loss: 308.5607\n",
      "Epoch 29/50\n",
      "23/23 [==============================] - 0s 2ms/step - loss: 376.0693 - val_loss: 290.8412\n",
      "Epoch 30/50\n",
      "23/23 [==============================] - 0s 3ms/step - loss: 355.0534 - val_loss: 275.5339\n",
      "Epoch 31/50\n",
      "23/23 [==============================] - 0s 3ms/step - loss: 333.4961 - val_loss: 269.4185\n",
      "Epoch 32/50\n",
      "23/23 [==============================] - 0s 3ms/step - loss: 314.4759 - val_loss: 257.8338\n",
      "Epoch 33/50\n",
      "23/23 [==============================] - 0s 3ms/step - loss: 297.4922 - val_loss: 247.4470\n",
      "Epoch 34/50\n",
      "23/23 [==============================] - 0s 3ms/step - loss: 281.8715 - val_loss: 240.3473\n",
      "Epoch 35/50\n",
      "23/23 [==============================] - 0s 3ms/step - loss: 268.7472 - val_loss: 239.2033\n",
      "Epoch 36/50\n",
      "23/23 [==============================] - 0s 2ms/step - loss: 253.6415 - val_loss: 224.2831\n",
      "Epoch 37/50\n",
      "23/23 [==============================] - 0s 3ms/step - loss: 243.9921 - val_loss: 230.9593\n",
      "Epoch 38/50\n",
      "23/23 [==============================] - 0s 3ms/step - loss: 232.4319 - val_loss: 211.8988\n",
      "Epoch 39/50\n",
      "23/23 [==============================] - 0s 3ms/step - loss: 222.8324 - val_loss: 219.3295\n",
      "Epoch 40/50\n",
      "23/23 [==============================] - 0s 3ms/step - loss: 213.9826 - val_loss: 200.2034\n",
      "Epoch 41/50\n",
      "23/23 [==============================] - 0s 3ms/step - loss: 207.7566 - val_loss: 215.8953\n",
      "Epoch 42/50\n",
      "23/23 [==============================] - 0s 3ms/step - loss: 199.0897 - val_loss: 193.3065\n",
      "Epoch 43/50\n",
      "23/23 [==============================] - 0s 3ms/step - loss: 192.1804 - val_loss: 188.7374\n",
      "Epoch 44/50\n",
      "23/23 [==============================] - 0s 2ms/step - loss: 185.6449 - val_loss: 193.4826\n",
      "Epoch 45/50\n",
      "23/23 [==============================] - 0s 3ms/step - loss: 180.1810 - val_loss: 181.2744\n",
      "Epoch 46/50\n",
      "23/23 [==============================] - 0s 3ms/step - loss: 175.1331 - val_loss: 180.8892\n",
      "Epoch 47/50\n",
      "23/23 [==============================] - 0s 2ms/step - loss: 172.2570 - val_loss: 179.7445\n",
      "Epoch 48/50\n",
      "23/23 [==============================] - 0s 2ms/step - loss: 166.5330 - val_loss: 169.7641\n",
      "Epoch 49/50\n",
      "23/23 [==============================] - 0s 3ms/step - loss: 162.7460 - val_loss: 171.4691\n",
      "Epoch 50/50\n",
      "23/23 [==============================] - 0s 3ms/step - loss: 160.1822 - val_loss: 165.8732\n"
     ]
    },
    {
     "data": {
      "text/plain": [
       "<keras.src.callbacks.History at 0x167cede3610>"
      ]
     },
     "execution_count": 13,
     "metadata": {},
     "output_type": "execute_result"
    }
   ],
   "source": [
    "model.fit(predictors, target, validation_split=0.3, epochs=50,verbose=1)"
   ]
  },
  {
   "cell_type": "code",
   "execution_count": 14,
   "id": "158d5226",
   "metadata": {},
   "outputs": [
    {
     "name": "stdout",
     "output_type": "stream",
     "text": [
      "10/10 [==============================] - 0s 1ms/step - loss: 164.5418\n",
      "10/10 [==============================] - 0s 2ms/step\n"
     ]
    },
    {
     "data": {
      "text/plain": [
       "164.5418243408203"
      ]
     },
     "execution_count": 14,
     "metadata": {},
     "output_type": "execute_result"
    }
   ],
   "source": [
    "loss_val = model.evaluate(X_test, y_test)\n",
    "y_pred = model.predict(X_test)\n",
    "loss_val"
   ]
  },
  {
   "cell_type": "markdown",
   "id": "fb96938a",
   "metadata": {},
   "source": [
    "Calculations"
   ]
  },
  {
   "cell_type": "code",
   "execution_count": 15,
   "id": "28ab918b",
   "metadata": {},
   "outputs": [
    {
     "name": "stdout",
     "output_type": "stream",
     "text": [
      "164.54181032292618 0.0\n",
      "MSE 1: 95.37361907958984\n",
      "10/10 [==============================] - 0s 2ms/step\n",
      "MSE 2: 105.83440399169922\n",
      "10/10 [==============================] - 0s 2ms/step\n",
      "MSE 3: 63.04566955566406\n",
      "10/10 [==============================] - 0s 0s/step\n",
      "MSE 4: 61.893287658691406\n",
      "10/10 [==============================] - 0s 2ms/step\n",
      "MSE 5: 59.545623779296875\n",
      "10/10 [==============================] - 0s 0s/step\n",
      "MSE 6: 54.31985092163086\n",
      "10/10 [==============================] - 0s 2ms/step\n",
      "MSE 7: 80.6626968383789\n",
      "10/10 [==============================] - 0s 0s/step\n",
      "MSE 8: 52.341068267822266\n",
      "10/10 [==============================] - 0s 2ms/step\n",
      "MSE 9: 50.11876678466797\n",
      "10/10 [==============================] - 0s 2ms/step\n",
      "MSE 10: 52.1298828125\n",
      "10/10 [==============================] - 0s 2ms/step\n",
      "MSE 11: 45.84091567993164\n",
      "10/10 [==============================] - 0s 2ms/step\n",
      "MSE 12: 44.85597610473633\n",
      "10/10 [==============================] - 0s 2ms/step\n",
      "MSE 13: 58.78469467163086\n",
      "10/10 [==============================] - 0s 2ms/step\n",
      "MSE 14: 59.480873107910156\n",
      "10/10 [==============================] - 0s 2ms/step\n",
      "MSE 15: 53.3730583190918\n",
      "10/10 [==============================] - 0s 2ms/step\n",
      "MSE 16: 46.72296142578125\n",
      "10/10 [==============================] - 0s 2ms/step\n",
      "MSE 17: 48.4593620300293\n",
      "10/10 [==============================] - 0s 1ms/step\n",
      "MSE 18: 46.52768325805664\n",
      "10/10 [==============================] - 0s 2ms/step\n",
      "MSE 19: 49.4039192199707\n",
      "10/10 [==============================] - 0s 0s/step\n",
      "MSE 20: 46.853755950927734\n",
      "10/10 [==============================] - 0s 2ms/step\n",
      "MSE 21: 42.910648345947266\n",
      "10/10 [==============================] - 0s 890us/step\n",
      "MSE 22: 45.23411560058594\n",
      "10/10 [==============================] - 0s 2ms/step\n",
      "MSE 23: 43.14488983154297\n",
      "10/10 [==============================] - 0s 0s/step\n",
      "MSE 24: 44.78807830810547\n",
      "10/10 [==============================] - 0s 2ms/step\n",
      "MSE 25: 48.68056106567383\n",
      "10/10 [==============================] - 0s 0s/step\n",
      "MSE 26: 45.354000091552734\n",
      "10/10 [==============================] - 0s 1ms/step\n",
      "MSE 27: 46.128334045410156\n",
      "10/10 [==============================] - 0s 2ms/step\n",
      "MSE 28: 41.218936920166016\n",
      "10/10 [==============================] - 0s 2ms/step\n",
      "MSE 29: 49.702964782714844\n",
      "10/10 [==============================] - 0s 2ms/step\n",
      "MSE 30: 52.28535461425781\n",
      "10/10 [==============================] - 0s 2ms/step\n",
      "MSE 31: 58.34018325805664\n",
      "10/10 [==============================] - 0s 2ms/step\n",
      "MSE 32: 41.79954147338867\n",
      "10/10 [==============================] - 0s 2ms/step\n",
      "MSE 33: 52.91880798339844\n",
      "10/10 [==============================] - 0s 3ms/step\n",
      "MSE 34: 52.32733154296875\n",
      "10/10 [==============================] - 0s 0s/step\n",
      "MSE 35: 43.351200103759766\n",
      "10/10 [==============================] - 0s 2ms/step\n",
      "MSE 36: 50.28225326538086\n",
      "10/10 [==============================] - 0s 2ms/step\n",
      "MSE 37: 50.51866912841797\n",
      "10/10 [==============================] - 0s 2ms/step\n",
      "MSE 38: 49.64201736450195\n",
      "10/10 [==============================] - 0s 0s/step\n",
      "MSE 39: 45.86227035522461\n",
      "10/10 [==============================] - 0s 0s/step\n",
      "MSE 40: 41.777957916259766\n",
      "10/10 [==============================] - 0s 2ms/step\n",
      "MSE 41: 55.453392028808594\n",
      "10/10 [==============================] - 0s 2ms/step\n",
      "MSE 42: 46.02809143066406\n",
      "10/10 [==============================] - 0s 2ms/step\n",
      "MSE 43: 43.8355827331543\n",
      "10/10 [==============================] - 0s 0s/step\n",
      "MSE 44: 55.56148910522461\n",
      "10/10 [==============================] - 0s 2ms/step\n",
      "MSE 45: 50.03409194946289\n",
      "10/10 [==============================] - 0s 2ms/step\n",
      "MSE 46: 68.46749877929688\n",
      "10/10 [==============================] - 0s 2ms/step\n",
      "MSE 47: 51.82718276977539\n",
      "10/10 [==============================] - 0s 2ms/step\n",
      "MSE 48: 50.27992630004883\n",
      "10/10 [==============================] - 0s 2ms/step\n",
      "MSE 49: 53.1895866394043\n",
      "10/10 [==============================] - 0s 2ms/step\n",
      "MSE 50: 51.90431594848633\n",
      "10/10 [==============================] - 0s 2ms/step\n"
     ]
    }
   ],
   "source": [
    "from sklearn.metrics import mean_squared_error\n",
    "mean_square_error = mean_squared_error(y_test, y_pred)\n",
    "mean = np.mean(mean_square_error)\n",
    "standard_deviation = np.std(mean_square_error)\n",
    "print(mean, standard_deviation)\n",
    "\n",
    "mean_squared_errors = []\n",
    "for i in range(0, 50):\n",
    "    X_train, X_test, y_train, y_test = train_test_split(predictors, target, test_size=0.3, random_state=i)\n",
    "    model.fit(X_train, y_train, epochs=50, verbose=0)\n",
    "    MSE = model.evaluate(X_test, y_test, verbose=0)\n",
    "    print(\"MSE \"+str(i+1)+\": \"+str(MSE))\n",
    "    y_pred = model.predict(X_test)\n",
    "    mean_square_error = mean_squared_error(y_test, y_pred)\n",
    "    mean_squared_errors.append(mean_square_error)\n",
    "\n",
    "mean_squared_errors = np.array(mean_squared_errors)\n",
    "mean = np.mean(mean_squared_errors)\n",
    "standard_deviation = np.std(mean_squared_errors)\n"
   ]
  },
  {
   "cell_type": "markdown",
   "id": "5932cf03",
   "metadata": {},
   "source": [
    "Output"
   ]
  },
  {
   "cell_type": "code",
   "execution_count": 16,
   "id": "6ad2468c",
   "metadata": {},
   "outputs": [
    {
     "name": "stdout",
     "output_type": "stream",
     "text": [
      "\n",
      "\n",
      "Below is the mean and standard deviation of 50 mean squared errors with normalized data. Total number of epochs for each training is: 50\n",
      "\n",
      "Mean: 52.96834578801748\n",
      "Standard Deviation: 12.153751636364738\n"
     ]
    }
   ],
   "source": [
    "print('\\n')\n",
    "print(\"Below is the mean and standard deviation of \" +str(50) + \" mean squared errors with normalized data. Total number of epochs for each training is: \" +str(50) + \"\\n\")\n",
    "print(\"Mean: \"+str(mean))\n",
    "print(\"Standard Deviation: \"+str(standard_deviation))"
   ]
  },
  {
   "cell_type": "markdown",
   "id": "20d9da85",
   "metadata": {},
   "source": [
    "The mean of mean squared erorr has reduced compared to non-normalised data."
   ]
  }
 ],
 "metadata": {
  "kernelspec": {
   "display_name": "Python 3 (ipykernel)",
   "language": "python",
   "name": "python3"
  },
  "language_info": {
   "codemirror_mode": {
    "name": "ipython",
    "version": 3
   },
   "file_extension": ".py",
   "mimetype": "text/x-python",
   "name": "python",
   "nbconvert_exporter": "python",
   "pygments_lexer": "ipython3",
   "version": "3.11.4"
  }
 },
 "nbformat": 4,
 "nbformat_minor": 5
}
