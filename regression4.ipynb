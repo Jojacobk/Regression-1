{
 "cells": [
  {
   "cell_type": "markdown",
   "id": "6d7b7013",
   "metadata": {},
   "source": [
    "Installing necessary libraries in Jupyter"
   ]
  },
  {
   "cell_type": "code",
   "execution_count": 1,
   "id": "ca0b5277",
   "metadata": {},
   "outputs": [
    {
     "name": "stdout",
     "output_type": "stream",
     "text": [
      "Requirement already satisfied: pandas in c:\\users\\jo\\anaconda3\\envs\\notebook\\lib\\site-packages (2.1.0)\n",
      "Requirement already satisfied: numpy>=1.23.2 in c:\\users\\jo\\anaconda3\\envs\\notebook\\lib\\site-packages (from pandas) (1.24.3)\n",
      "Requirement already satisfied: python-dateutil>=2.8.2 in c:\\users\\jo\\anaconda3\\envs\\notebook\\lib\\site-packages (from pandas) (2.8.2)\n",
      "Requirement already satisfied: pytz>=2020.1 in c:\\users\\jo\\anaconda3\\envs\\notebook\\lib\\site-packages (from pandas) (2023.3)\n",
      "Requirement already satisfied: tzdata>=2022.1 in c:\\users\\jo\\anaconda3\\envs\\notebook\\lib\\site-packages (from pandas) (2023.3)\n",
      "Requirement already satisfied: six>=1.5 in c:\\users\\jo\\anaconda3\\envs\\notebook\\lib\\site-packages (from python-dateutil>=2.8.2->pandas) (1.16.0)\n",
      "Requirement already satisfied: numpy in c:\\users\\jo\\anaconda3\\envs\\notebook\\lib\\site-packages (1.24.3)\n",
      "Requirement already satisfied: tensorflow in c:\\users\\jo\\anaconda3\\envs\\notebook\\lib\\site-packages (2.13.0)\n",
      "Requirement already satisfied: tensorflow-intel==2.13.0 in c:\\users\\jo\\anaconda3\\envs\\notebook\\lib\\site-packages (from tensorflow) (2.13.0)\n",
      "Requirement already satisfied: absl-py>=1.0.0 in c:\\users\\jo\\anaconda3\\envs\\notebook\\lib\\site-packages (from tensorflow-intel==2.13.0->tensorflow) (1.4.0)\n",
      "Requirement already satisfied: astunparse>=1.6.0 in c:\\users\\jo\\anaconda3\\envs\\notebook\\lib\\site-packages (from tensorflow-intel==2.13.0->tensorflow) (1.6.3)\n",
      "Requirement already satisfied: flatbuffers>=23.1.21 in c:\\users\\jo\\anaconda3\\envs\\notebook\\lib\\site-packages (from tensorflow-intel==2.13.0->tensorflow) (23.5.26)\n",
      "Requirement already satisfied: gast<=0.4.0,>=0.2.1 in c:\\users\\jo\\anaconda3\\envs\\notebook\\lib\\site-packages (from tensorflow-intel==2.13.0->tensorflow) (0.4.0)\n",
      "Requirement already satisfied: google-pasta>=0.1.1 in c:\\users\\jo\\anaconda3\\envs\\notebook\\lib\\site-packages (from tensorflow-intel==2.13.0->tensorflow) (0.2.0)\n",
      "Requirement already satisfied: h5py>=2.9.0 in c:\\users\\jo\\anaconda3\\envs\\notebook\\lib\\site-packages (from tensorflow-intel==2.13.0->tensorflow) (3.9.0)\n",
      "Requirement already satisfied: libclang>=13.0.0 in c:\\users\\jo\\anaconda3\\envs\\notebook\\lib\\site-packages (from tensorflow-intel==2.13.0->tensorflow) (16.0.6)\n",
      "Requirement already satisfied: numpy<=1.24.3,>=1.22 in c:\\users\\jo\\anaconda3\\envs\\notebook\\lib\\site-packages (from tensorflow-intel==2.13.0->tensorflow) (1.24.3)\n",
      "Requirement already satisfied: opt-einsum>=2.3.2 in c:\\users\\jo\\anaconda3\\envs\\notebook\\lib\\site-packages (from tensorflow-intel==2.13.0->tensorflow) (3.3.0)\n",
      "Requirement already satisfied: packaging in c:\\users\\jo\\anaconda3\\envs\\notebook\\lib\\site-packages (from tensorflow-intel==2.13.0->tensorflow) (23.1)\n",
      "Requirement already satisfied: protobuf!=4.21.0,!=4.21.1,!=4.21.2,!=4.21.3,!=4.21.4,!=4.21.5,<5.0.0dev,>=3.20.3 in c:\\users\\jo\\anaconda3\\envs\\notebook\\lib\\site-packages (from tensorflow-intel==2.13.0->tensorflow) (4.24.2)\n",
      "Requirement already satisfied: setuptools in c:\\users\\jo\\anaconda3\\envs\\notebook\\lib\\site-packages (from tensorflow-intel==2.13.0->tensorflow) (68.0.0)\n",
      "Requirement already satisfied: six>=1.12.0 in c:\\users\\jo\\anaconda3\\envs\\notebook\\lib\\site-packages (from tensorflow-intel==2.13.0->tensorflow) (1.16.0)\n",
      "Requirement already satisfied: termcolor>=1.1.0 in c:\\users\\jo\\anaconda3\\envs\\notebook\\lib\\site-packages (from tensorflow-intel==2.13.0->tensorflow) (2.3.0)\n",
      "Requirement already satisfied: typing-extensions<4.6.0,>=3.6.6 in c:\\users\\jo\\anaconda3\\envs\\notebook\\lib\\site-packages (from tensorflow-intel==2.13.0->tensorflow) (4.5.0)\n",
      "Requirement already satisfied: wrapt>=1.11.0 in c:\\users\\jo\\anaconda3\\envs\\notebook\\lib\\site-packages (from tensorflow-intel==2.13.0->tensorflow) (1.15.0)\n",
      "Requirement already satisfied: grpcio<2.0,>=1.24.3 in c:\\users\\jo\\anaconda3\\envs\\notebook\\lib\\site-packages (from tensorflow-intel==2.13.0->tensorflow) (1.57.0)\n",
      "Requirement already satisfied: tensorboard<2.14,>=2.13 in c:\\users\\jo\\anaconda3\\envs\\notebook\\lib\\site-packages (from tensorflow-intel==2.13.0->tensorflow) (2.13.0)\n",
      "Requirement already satisfied: tensorflow-estimator<2.14,>=2.13.0 in c:\\users\\jo\\anaconda3\\envs\\notebook\\lib\\site-packages (from tensorflow-intel==2.13.0->tensorflow) (2.13.0)\n",
      "Requirement already satisfied: keras<2.14,>=2.13.1 in c:\\users\\jo\\anaconda3\\envs\\notebook\\lib\\site-packages (from tensorflow-intel==2.13.0->tensorflow) (2.13.1)\n",
      "Requirement already satisfied: tensorflow-io-gcs-filesystem>=0.23.1 in c:\\users\\jo\\anaconda3\\envs\\notebook\\lib\\site-packages (from tensorflow-intel==2.13.0->tensorflow) (0.31.0)\n",
      "Requirement already satisfied: wheel<1.0,>=0.23.0 in c:\\users\\jo\\anaconda3\\envs\\notebook\\lib\\site-packages (from astunparse>=1.6.0->tensorflow-intel==2.13.0->tensorflow) (0.38.4)\n",
      "Requirement already satisfied: google-auth<3,>=1.6.3 in c:\\users\\jo\\anaconda3\\envs\\notebook\\lib\\site-packages (from tensorboard<2.14,>=2.13->tensorflow-intel==2.13.0->tensorflow) (2.22.0)\n",
      "Requirement already satisfied: google-auth-oauthlib<1.1,>=0.5 in c:\\users\\jo\\anaconda3\\envs\\notebook\\lib\\site-packages (from tensorboard<2.14,>=2.13->tensorflow-intel==2.13.0->tensorflow) (1.0.0)\n",
      "Requirement already satisfied: markdown>=2.6.8 in c:\\users\\jo\\anaconda3\\envs\\notebook\\lib\\site-packages (from tensorboard<2.14,>=2.13->tensorflow-intel==2.13.0->tensorflow) (3.4.4)\n",
      "Requirement already satisfied: requests<3,>=2.21.0 in c:\\users\\jo\\anaconda3\\envs\\notebook\\lib\\site-packages (from tensorboard<2.14,>=2.13->tensorflow-intel==2.13.0->tensorflow) (2.31.0)\n",
      "Requirement already satisfied: tensorboard-data-server<0.8.0,>=0.7.0 in c:\\users\\jo\\anaconda3\\envs\\notebook\\lib\\site-packages (from tensorboard<2.14,>=2.13->tensorflow-intel==2.13.0->tensorflow) (0.7.1)\n",
      "Requirement already satisfied: werkzeug>=1.0.1 in c:\\users\\jo\\anaconda3\\envs\\notebook\\lib\\site-packages (from tensorboard<2.14,>=2.13->tensorflow-intel==2.13.0->tensorflow) (2.3.7)\n",
      "Requirement already satisfied: cachetools<6.0,>=2.0.0 in c:\\users\\jo\\anaconda3\\envs\\notebook\\lib\\site-packages (from google-auth<3,>=1.6.3->tensorboard<2.14,>=2.13->tensorflow-intel==2.13.0->tensorflow) (5.3.1)\n",
      "Requirement already satisfied: pyasn1-modules>=0.2.1 in c:\\users\\jo\\anaconda3\\envs\\notebook\\lib\\site-packages (from google-auth<3,>=1.6.3->tensorboard<2.14,>=2.13->tensorflow-intel==2.13.0->tensorflow) (0.3.0)\n",
      "Requirement already satisfied: rsa<5,>=3.1.4 in c:\\users\\jo\\anaconda3\\envs\\notebook\\lib\\site-packages (from google-auth<3,>=1.6.3->tensorboard<2.14,>=2.13->tensorflow-intel==2.13.0->tensorflow) (4.9)\n",
      "Requirement already satisfied: urllib3<2.0 in c:\\users\\jo\\anaconda3\\envs\\notebook\\lib\\site-packages (from google-auth<3,>=1.6.3->tensorboard<2.14,>=2.13->tensorflow-intel==2.13.0->tensorflow) (1.26.16)\n",
      "Requirement already satisfied: requests-oauthlib>=0.7.0 in c:\\users\\jo\\anaconda3\\envs\\notebook\\lib\\site-packages (from google-auth-oauthlib<1.1,>=0.5->tensorboard<2.14,>=2.13->tensorflow-intel==2.13.0->tensorflow) (1.3.1)\n",
      "Requirement already satisfied: charset-normalizer<4,>=2 in c:\\users\\jo\\anaconda3\\envs\\notebook\\lib\\site-packages (from requests<3,>=2.21.0->tensorboard<2.14,>=2.13->tensorflow-intel==2.13.0->tensorflow) (3.2.0)\n",
      "Requirement already satisfied: idna<4,>=2.5 in c:\\users\\jo\\anaconda3\\envs\\notebook\\lib\\site-packages (from requests<3,>=2.21.0->tensorboard<2.14,>=2.13->tensorflow-intel==2.13.0->tensorflow) (3.4)\n",
      "Requirement already satisfied: certifi>=2017.4.17 in c:\\users\\jo\\anaconda3\\envs\\notebook\\lib\\site-packages (from requests<3,>=2.21.0->tensorboard<2.14,>=2.13->tensorflow-intel==2.13.0->tensorflow) (2023.7.22)\n",
      "Requirement already satisfied: MarkupSafe>=2.1.1 in c:\\users\\jo\\anaconda3\\envs\\notebook\\lib\\site-packages (from werkzeug>=1.0.1->tensorboard<2.14,>=2.13->tensorflow-intel==2.13.0->tensorflow) (2.1.1)\n",
      "Requirement already satisfied: pyasn1<0.6.0,>=0.4.6 in c:\\users\\jo\\anaconda3\\envs\\notebook\\lib\\site-packages (from pyasn1-modules>=0.2.1->google-auth<3,>=1.6.3->tensorboard<2.14,>=2.13->tensorflow-intel==2.13.0->tensorflow) (0.5.0)\n",
      "Requirement already satisfied: oauthlib>=3.0.0 in c:\\users\\jo\\anaconda3\\envs\\notebook\\lib\\site-packages (from requests-oauthlib>=0.7.0->google-auth-oauthlib<1.1,>=0.5->tensorboard<2.14,>=2.13->tensorflow-intel==2.13.0->tensorflow) (3.2.2)\n",
      "Requirement already satisfied: keras in c:\\users\\jo\\anaconda3\\envs\\notebook\\lib\\site-packages (2.13.1)\n"
     ]
    },
    {
     "name": "stdout",
     "output_type": "stream",
     "text": [
      "Requirement already satisfied: scikit-learn in c:\\users\\jo\\anaconda3\\envs\\notebook\\lib\\site-packages (1.3.0)\n",
      "Requirement already satisfied: numpy>=1.17.3 in c:\\users\\jo\\anaconda3\\envs\\notebook\\lib\\site-packages (from scikit-learn) (1.24.3)\n",
      "Requirement already satisfied: scipy>=1.5.0 in c:\\users\\jo\\anaconda3\\envs\\notebook\\lib\\site-packages (from scikit-learn) (1.11.2)\n",
      "Requirement already satisfied: joblib>=1.1.1 in c:\\users\\jo\\anaconda3\\envs\\notebook\\lib\\site-packages (from scikit-learn) (1.3.2)\n",
      "Requirement already satisfied: threadpoolctl>=2.0.0 in c:\\users\\jo\\anaconda3\\envs\\notebook\\lib\\site-packages (from scikit-learn) (3.2.0)\n"
     ]
    }
   ],
   "source": [
    "!pip install pandas\n",
    "!pip install numpy\n",
    "!pip install tensorflow\n",
    "!pip install keras\n",
    "!pip install scikit-learn"
   ]
  },
  {
   "cell_type": "markdown",
   "id": "1ed62d61",
   "metadata": {},
   "source": [
    "Importing the libraries"
   ]
  },
  {
   "cell_type": "code",
   "execution_count": 2,
   "id": "ba5a4cb0",
   "metadata": {},
   "outputs": [],
   "source": [
    "import pandas as pd\n",
    "import numpy as np\n",
    "import keras\n",
    "from keras.models import Sequential\n",
    "from keras.layers import Dense\n",
    "from sklearn.model_selection import train_test_split"
   ]
  },
  {
   "cell_type": "markdown",
   "id": "e504cfb6",
   "metadata": {},
   "source": [
    "Downloading data and reading it into a pandas framework"
   ]
  },
  {
   "cell_type": "code",
   "execution_count": 3,
   "id": "ebbfa381",
   "metadata": {},
   "outputs": [
    {
     "data": {
      "text/html": [
       "<div>\n",
       "<style scoped>\n",
       "    .dataframe tbody tr th:only-of-type {\n",
       "        vertical-align: middle;\n",
       "    }\n",
       "\n",
       "    .dataframe tbody tr th {\n",
       "        vertical-align: top;\n",
       "    }\n",
       "\n",
       "    .dataframe thead th {\n",
       "        text-align: right;\n",
       "    }\n",
       "</style>\n",
       "<table border=\"1\" class=\"dataframe\">\n",
       "  <thead>\n",
       "    <tr style=\"text-align: right;\">\n",
       "      <th></th>\n",
       "      <th>Cement</th>\n",
       "      <th>Blast Furnace Slag</th>\n",
       "      <th>Fly Ash</th>\n",
       "      <th>Water</th>\n",
       "      <th>Superplasticizer</th>\n",
       "      <th>Coarse Aggregate</th>\n",
       "      <th>Fine Aggregate</th>\n",
       "      <th>Age</th>\n",
       "      <th>Strength</th>\n",
       "    </tr>\n",
       "  </thead>\n",
       "  <tbody>\n",
       "    <tr>\n",
       "      <th>0</th>\n",
       "      <td>540.0</td>\n",
       "      <td>0.0</td>\n",
       "      <td>0.0</td>\n",
       "      <td>162.0</td>\n",
       "      <td>2.5</td>\n",
       "      <td>1040.0</td>\n",
       "      <td>676.0</td>\n",
       "      <td>28</td>\n",
       "      <td>79.99</td>\n",
       "    </tr>\n",
       "    <tr>\n",
       "      <th>1</th>\n",
       "      <td>540.0</td>\n",
       "      <td>0.0</td>\n",
       "      <td>0.0</td>\n",
       "      <td>162.0</td>\n",
       "      <td>2.5</td>\n",
       "      <td>1055.0</td>\n",
       "      <td>676.0</td>\n",
       "      <td>28</td>\n",
       "      <td>61.89</td>\n",
       "    </tr>\n",
       "    <tr>\n",
       "      <th>2</th>\n",
       "      <td>332.5</td>\n",
       "      <td>142.5</td>\n",
       "      <td>0.0</td>\n",
       "      <td>228.0</td>\n",
       "      <td>0.0</td>\n",
       "      <td>932.0</td>\n",
       "      <td>594.0</td>\n",
       "      <td>270</td>\n",
       "      <td>40.27</td>\n",
       "    </tr>\n",
       "    <tr>\n",
       "      <th>3</th>\n",
       "      <td>332.5</td>\n",
       "      <td>142.5</td>\n",
       "      <td>0.0</td>\n",
       "      <td>228.0</td>\n",
       "      <td>0.0</td>\n",
       "      <td>932.0</td>\n",
       "      <td>594.0</td>\n",
       "      <td>365</td>\n",
       "      <td>41.05</td>\n",
       "    </tr>\n",
       "    <tr>\n",
       "      <th>4</th>\n",
       "      <td>198.6</td>\n",
       "      <td>132.4</td>\n",
       "      <td>0.0</td>\n",
       "      <td>192.0</td>\n",
       "      <td>0.0</td>\n",
       "      <td>978.4</td>\n",
       "      <td>825.5</td>\n",
       "      <td>360</td>\n",
       "      <td>44.30</td>\n",
       "    </tr>\n",
       "  </tbody>\n",
       "</table>\n",
       "</div>"
      ],
      "text/plain": [
       "   Cement  Blast Furnace Slag  Fly Ash  Water  Superplasticizer  \\\n",
       "0   540.0                 0.0      0.0  162.0               2.5   \n",
       "1   540.0                 0.0      0.0  162.0               2.5   \n",
       "2   332.5               142.5      0.0  228.0               0.0   \n",
       "3   332.5               142.5      0.0  228.0               0.0   \n",
       "4   198.6               132.4      0.0  192.0               0.0   \n",
       "\n",
       "   Coarse Aggregate  Fine Aggregate  Age  Strength  \n",
       "0            1040.0           676.0   28     79.99  \n",
       "1            1055.0           676.0   28     61.89  \n",
       "2             932.0           594.0  270     40.27  \n",
       "3             932.0           594.0  365     41.05  \n",
       "4             978.4           825.5  360     44.30  "
      ]
     },
     "execution_count": 3,
     "metadata": {},
     "output_type": "execute_result"
    }
   ],
   "source": [
    "cd = pd.read_csv('https://cocl.us/concrete_data')\n",
    "cd.head()"
   ]
  },
  {
   "cell_type": "markdown",
   "id": "ce340c9c",
   "metadata": {},
   "source": [
    "Checking the data points"
   ]
  },
  {
   "cell_type": "code",
   "execution_count": 4,
   "id": "21a071ec",
   "metadata": {},
   "outputs": [
    {
     "name": "stdout",
     "output_type": "stream",
     "text": [
      "<class 'pandas.core.frame.DataFrame'>\n",
      "RangeIndex: 1030 entries, 0 to 1029\n",
      "Data columns (total 9 columns):\n",
      " #   Column              Non-Null Count  Dtype  \n",
      "---  ------              --------------  -----  \n",
      " 0   Cement              1030 non-null   float64\n",
      " 1   Blast Furnace Slag  1030 non-null   float64\n",
      " 2   Fly Ash             1030 non-null   float64\n",
      " 3   Water               1030 non-null   float64\n",
      " 4   Superplasticizer    1030 non-null   float64\n",
      " 5   Coarse Aggregate    1030 non-null   float64\n",
      " 6   Fine Aggregate      1030 non-null   float64\n",
      " 7   Age                 1030 non-null   int64  \n",
      " 8   Strength            1030 non-null   float64\n",
      "dtypes: float64(8), int64(1)\n",
      "memory usage: 72.6 KB\n"
     ]
    },
    {
     "data": {
      "text/plain": [
       "(1030, 9)"
      ]
     },
     "execution_count": 4,
     "metadata": {},
     "output_type": "execute_result"
    }
   ],
   "source": [
    "cd.info()\n",
    "\n",
    "cd.shape"
   ]
  },
  {
   "cell_type": "markdown",
   "id": "185aa78d",
   "metadata": {},
   "source": [
    "Searching the dataset for missing values"
   ]
  },
  {
   "cell_type": "code",
   "execution_count": 5,
   "id": "5737b9fa",
   "metadata": {},
   "outputs": [
    {
     "data": {
      "text/plain": [
       "Cement                0\n",
       "Blast Furnace Slag    0\n",
       "Fly Ash               0\n",
       "Water                 0\n",
       "Superplasticizer      0\n",
       "Coarse Aggregate      0\n",
       "Fine Aggregate        0\n",
       "Age                   0\n",
       "Strength              0\n",
       "dtype: int64"
      ]
     },
     "execution_count": 5,
     "metadata": {},
     "output_type": "execute_result"
    }
   ],
   "source": [
    "cd.describe()\n",
    "cd.isnull().sum()"
   ]
  },
  {
   "cell_type": "markdown",
   "id": "6d7cb72e",
   "metadata": {},
   "source": [
    "Splitting data into predictors and target"
   ]
  },
  {
   "cell_type": "code",
   "execution_count": 6,
   "id": "eb5373a4",
   "metadata": {},
   "outputs": [],
   "source": [
    "cd_columns = cd.columns\n",
    "\n",
    "predictors = cd[cd_columns[cd_columns != 'Strength']] # all columns except Strength\n",
    "target = cd['Strength'] # Strength column"
   ]
  },
  {
   "cell_type": "markdown",
   "id": "1ae276c1",
   "metadata": {},
   "source": [
    "Sanity check of the predictors and target"
   ]
  },
  {
   "cell_type": "code",
   "execution_count": 7,
   "id": "d3f78af4",
   "metadata": {},
   "outputs": [
    {
     "data": {
      "text/plain": [
       "0    79.99\n",
       "1    61.89\n",
       "2    40.27\n",
       "3    41.05\n",
       "4    44.30\n",
       "Name: Strength, dtype: float64"
      ]
     },
     "execution_count": 7,
     "metadata": {},
     "output_type": "execute_result"
    }
   ],
   "source": [
    "predictors.head()\n",
    "target.head()"
   ]
  },
  {
   "cell_type": "markdown",
   "id": "bb99e652",
   "metadata": {},
   "source": [
    "# Normalising the data"
   ]
  },
  {
   "cell_type": "code",
   "execution_count": 8,
   "id": "a16eebdd",
   "metadata": {},
   "outputs": [
    {
     "data": {
      "text/html": [
       "<div>\n",
       "<style scoped>\n",
       "    .dataframe tbody tr th:only-of-type {\n",
       "        vertical-align: middle;\n",
       "    }\n",
       "\n",
       "    .dataframe tbody tr th {\n",
       "        vertical-align: top;\n",
       "    }\n",
       "\n",
       "    .dataframe thead th {\n",
       "        text-align: right;\n",
       "    }\n",
       "</style>\n",
       "<table border=\"1\" class=\"dataframe\">\n",
       "  <thead>\n",
       "    <tr style=\"text-align: right;\">\n",
       "      <th></th>\n",
       "      <th>Cement</th>\n",
       "      <th>Blast Furnace Slag</th>\n",
       "      <th>Fly Ash</th>\n",
       "      <th>Water</th>\n",
       "      <th>Superplasticizer</th>\n",
       "      <th>Coarse Aggregate</th>\n",
       "      <th>Fine Aggregate</th>\n",
       "      <th>Age</th>\n",
       "    </tr>\n",
       "  </thead>\n",
       "  <tbody>\n",
       "    <tr>\n",
       "      <th>0</th>\n",
       "      <td>2.476712</td>\n",
       "      <td>-0.856472</td>\n",
       "      <td>-0.846733</td>\n",
       "      <td>-0.916319</td>\n",
       "      <td>-0.620147</td>\n",
       "      <td>0.862735</td>\n",
       "      <td>-1.217079</td>\n",
       "      <td>-0.279597</td>\n",
       "    </tr>\n",
       "    <tr>\n",
       "      <th>1</th>\n",
       "      <td>2.476712</td>\n",
       "      <td>-0.856472</td>\n",
       "      <td>-0.846733</td>\n",
       "      <td>-0.916319</td>\n",
       "      <td>-0.620147</td>\n",
       "      <td>1.055651</td>\n",
       "      <td>-1.217079</td>\n",
       "      <td>-0.279597</td>\n",
       "    </tr>\n",
       "    <tr>\n",
       "      <th>2</th>\n",
       "      <td>0.491187</td>\n",
       "      <td>0.795140</td>\n",
       "      <td>-0.846733</td>\n",
       "      <td>2.174405</td>\n",
       "      <td>-1.038638</td>\n",
       "      <td>-0.526262</td>\n",
       "      <td>-2.239829</td>\n",
       "      <td>3.551340</td>\n",
       "    </tr>\n",
       "    <tr>\n",
       "      <th>3</th>\n",
       "      <td>0.491187</td>\n",
       "      <td>0.795140</td>\n",
       "      <td>-0.846733</td>\n",
       "      <td>2.174405</td>\n",
       "      <td>-1.038638</td>\n",
       "      <td>-0.526262</td>\n",
       "      <td>-2.239829</td>\n",
       "      <td>5.055221</td>\n",
       "    </tr>\n",
       "    <tr>\n",
       "      <th>4</th>\n",
       "      <td>-0.790075</td>\n",
       "      <td>0.678079</td>\n",
       "      <td>-0.846733</td>\n",
       "      <td>0.488555</td>\n",
       "      <td>-1.038638</td>\n",
       "      <td>0.070492</td>\n",
       "      <td>0.647569</td>\n",
       "      <td>4.976069</td>\n",
       "    </tr>\n",
       "  </tbody>\n",
       "</table>\n",
       "</div>"
      ],
      "text/plain": [
       "     Cement  Blast Furnace Slag   Fly Ash     Water  Superplasticizer  \\\n",
       "0  2.476712           -0.856472 -0.846733 -0.916319         -0.620147   \n",
       "1  2.476712           -0.856472 -0.846733 -0.916319         -0.620147   \n",
       "2  0.491187            0.795140 -0.846733  2.174405         -1.038638   \n",
       "3  0.491187            0.795140 -0.846733  2.174405         -1.038638   \n",
       "4 -0.790075            0.678079 -0.846733  0.488555         -1.038638   \n",
       "\n",
       "   Coarse Aggregate  Fine Aggregate       Age  \n",
       "0          0.862735       -1.217079 -0.279597  \n",
       "1          1.055651       -1.217079 -0.279597  \n",
       "2         -0.526262       -2.239829  3.551340  \n",
       "3         -0.526262       -2.239829  5.055221  \n",
       "4          0.070492        0.647569  4.976069  "
      ]
     },
     "execution_count": 8,
     "metadata": {},
     "output_type": "execute_result"
    }
   ],
   "source": [
    "predictors_norm = (predictors - predictors.mean()) / predictors.std()\n",
    "predictors_norm.head()"
   ]
  },
  {
   "cell_type": "markdown",
   "id": "141cacd7",
   "metadata": {},
   "source": [
    "saving the number of predictors to n_cols"
   ]
  },
  {
   "cell_type": "code",
   "execution_count": 9,
   "id": "8a7ce26b",
   "metadata": {},
   "outputs": [],
   "source": [
    "n_cols = predictors.shape[1]"
   ]
  },
  {
   "cell_type": "markdown",
   "id": "b6488692",
   "metadata": {},
   "source": [
    "# Increasing hidden layers to three"
   ]
  },
  {
   "cell_type": "code",
   "execution_count": 10,
   "id": "4e9723bd",
   "metadata": {},
   "outputs": [],
   "source": [
    "def regression_model():\n",
    "    # create model\n",
    "    model = Sequential()\n",
    "    model.add(Dense(10, activation='relu', input_shape=(n_cols,)))\n",
    "    model.add(Dense(10, activation='relu'))\n",
    "    model.add(Dense(10, activation='relu'))\n",
    "    model.add(Dense(1))\n",
    "    \n",
    "    # compile model\n",
    "    model.compile(optimizer='adam', loss='mean_squared_error')\n",
    "    return model\n",
    "\n",
    "\n"
   ]
  },
  {
   "cell_type": "markdown",
   "id": "88807253",
   "metadata": {},
   "source": [
    "Train Test Split"
   ]
  },
  {
   "cell_type": "code",
   "execution_count": 11,
   "id": "a64edd26",
   "metadata": {},
   "outputs": [],
   "source": [
    "X_train, X_test, y_train, y_test = train_test_split(predictors, target, test_size=0.3, random_state=42)"
   ]
  },
  {
   "cell_type": "markdown",
   "id": "369808f6",
   "metadata": {},
   "source": [
    "Build the model"
   ]
  },
  {
   "cell_type": "code",
   "execution_count": 12,
   "id": "7a3ba378",
   "metadata": {},
   "outputs": [],
   "source": [
    "model = regression_model()"
   ]
  },
  {
   "cell_type": "markdown",
   "id": "827a4135",
   "metadata": {},
   "source": [
    "Fitting the data"
   ]
  },
  {
   "cell_type": "code",
   "execution_count": 13,
   "id": "2b07021e",
   "metadata": {},
   "outputs": [
    {
     "name": "stdout",
     "output_type": "stream",
     "text": [
      "Epoch 1/50\n",
      "23/23 [==============================] - 1s 9ms/step - loss: 816.5511 - val_loss: 476.1649\n",
      "Epoch 2/50\n",
      "23/23 [==============================] - 0s 3ms/step - loss: 494.4218 - val_loss: 275.9076\n",
      "Epoch 3/50\n",
      "23/23 [==============================] - 0s 3ms/step - loss: 342.2901 - val_loss: 257.4296\n",
      "Epoch 4/50\n",
      "23/23 [==============================] - 0s 3ms/step - loss: 300.5185 - val_loss: 246.4453\n",
      "Epoch 5/50\n",
      "23/23 [==============================] - 0s 2ms/step - loss: 268.3320 - val_loss: 185.6347\n",
      "Epoch 6/50\n",
      "23/23 [==============================] - 0s 3ms/step - loss: 237.3770 - val_loss: 163.7586\n",
      "Epoch 7/50\n",
      "23/23 [==============================] - 0s 3ms/step - loss: 215.6551 - val_loss: 159.7562\n",
      "Epoch 8/50\n",
      "23/23 [==============================] - 0s 2ms/step - loss: 198.3045 - val_loss: 157.6622\n",
      "Epoch 9/50\n",
      "23/23 [==============================] - 0s 2ms/step - loss: 181.9769 - val_loss: 147.7350\n",
      "Epoch 10/50\n",
      "23/23 [==============================] - 0s 2ms/step - loss: 166.2458 - val_loss: 162.0581\n",
      "Epoch 11/50\n",
      "23/23 [==============================] - 0s 3ms/step - loss: 154.2931 - val_loss: 138.1986\n",
      "Epoch 12/50\n",
      "23/23 [==============================] - 0s 3ms/step - loss: 146.1391 - val_loss: 127.6548\n",
      "Epoch 13/50\n",
      "23/23 [==============================] - 0s 2ms/step - loss: 140.5865 - val_loss: 184.6685\n",
      "Epoch 14/50\n",
      "23/23 [==============================] - 0s 2ms/step - loss: 126.5083 - val_loss: 137.6699\n",
      "Epoch 15/50\n",
      "23/23 [==============================] - 0s 3ms/step - loss: 123.7557 - val_loss: 134.4310\n",
      "Epoch 16/50\n",
      "23/23 [==============================] - 0s 3ms/step - loss: 119.9247 - val_loss: 116.5038\n",
      "Epoch 17/50\n",
      "23/23 [==============================] - 0s 3ms/step - loss: 111.1451 - val_loss: 122.9511\n",
      "Epoch 18/50\n",
      "23/23 [==============================] - 0s 3ms/step - loss: 104.2393 - val_loss: 161.5583\n",
      "Epoch 19/50\n",
      "23/23 [==============================] - 0s 2ms/step - loss: 107.4757 - val_loss: 120.1694\n",
      "Epoch 20/50\n",
      "23/23 [==============================] - 0s 3ms/step - loss: 97.6085 - val_loss: 112.6725\n",
      "Epoch 21/50\n",
      "23/23 [==============================] - 0s 2ms/step - loss: 98.5885 - val_loss: 92.4650\n",
      "Epoch 22/50\n",
      "23/23 [==============================] - 0s 3ms/step - loss: 100.1370 - val_loss: 92.1248\n",
      "Epoch 23/50\n",
      "23/23 [==============================] - 0s 3ms/step - loss: 94.3246 - val_loss: 92.4431\n",
      "Epoch 24/50\n",
      "23/23 [==============================] - 0s 3ms/step - loss: 88.3481 - val_loss: 101.2817\n",
      "Epoch 25/50\n",
      "23/23 [==============================] - 0s 3ms/step - loss: 86.0109 - val_loss: 87.4080\n",
      "Epoch 26/50\n",
      "23/23 [==============================] - 0s 2ms/step - loss: 84.4839 - val_loss: 78.6528\n",
      "Epoch 27/50\n",
      "23/23 [==============================] - 0s 3ms/step - loss: 82.0969 - val_loss: 88.0965\n",
      "Epoch 28/50\n",
      "23/23 [==============================] - 0s 3ms/step - loss: 77.6706 - val_loss: 83.7836\n",
      "Epoch 29/50\n",
      "23/23 [==============================] - 0s 2ms/step - loss: 79.0402 - val_loss: 79.6317\n",
      "Epoch 30/50\n",
      "23/23 [==============================] - 0s 2ms/step - loss: 78.5639 - val_loss: 81.9589\n",
      "Epoch 31/50\n",
      "23/23 [==============================] - 0s 3ms/step - loss: 74.2147 - val_loss: 73.2362\n",
      "Epoch 32/50\n",
      "23/23 [==============================] - 0s 3ms/step - loss: 73.3742 - val_loss: 67.5808\n",
      "Epoch 33/50\n",
      "23/23 [==============================] - 0s 2ms/step - loss: 74.4566 - val_loss: 72.0271\n",
      "Epoch 34/50\n",
      "23/23 [==============================] - 0s 2ms/step - loss: 74.1325 - val_loss: 91.0341\n",
      "Epoch 35/50\n",
      "23/23 [==============================] - 0s 2ms/step - loss: 69.4554 - val_loss: 69.8440\n",
      "Epoch 36/50\n",
      "23/23 [==============================] - 0s 2ms/step - loss: 68.3982 - val_loss: 76.0438\n",
      "Epoch 37/50\n",
      "23/23 [==============================] - 0s 3ms/step - loss: 66.9612 - val_loss: 61.0763\n",
      "Epoch 38/50\n",
      "23/23 [==============================] - 0s 3ms/step - loss: 64.5717 - val_loss: 71.3491\n",
      "Epoch 39/50\n",
      "23/23 [==============================] - 0s 3ms/step - loss: 64.4800 - val_loss: 88.9081\n",
      "Epoch 40/50\n",
      "23/23 [==============================] - 0s 3ms/step - loss: 64.5619 - val_loss: 59.4163\n",
      "Epoch 41/50\n",
      "23/23 [==============================] - 0s 2ms/step - loss: 62.5882 - val_loss: 86.0398\n",
      "Epoch 42/50\n",
      "23/23 [==============================] - 0s 3ms/step - loss: 62.3818 - val_loss: 65.2550\n",
      "Epoch 43/50\n",
      "23/23 [==============================] - 0s 2ms/step - loss: 59.1070 - val_loss: 55.9004\n",
      "Epoch 44/50\n",
      "23/23 [==============================] - 0s 2ms/step - loss: 59.5909 - val_loss: 58.6798\n",
      "Epoch 45/50\n",
      "23/23 [==============================] - 0s 3ms/step - loss: 59.0131 - val_loss: 57.6105\n",
      "Epoch 46/50\n",
      "23/23 [==============================] - 0s 2ms/step - loss: 59.7014 - val_loss: 58.7962\n",
      "Epoch 47/50\n",
      "23/23 [==============================] - 0s 3ms/step - loss: 58.7689 - val_loss: 65.6058\n",
      "Epoch 48/50\n",
      "23/23 [==============================] - 0s 3ms/step - loss: 57.6962 - val_loss: 71.8249\n",
      "Epoch 49/50\n",
      "23/23 [==============================] - 0s 2ms/step - loss: 58.6012 - val_loss: 57.3427\n",
      "Epoch 50/50\n",
      "23/23 [==============================] - 0s 3ms/step - loss: 56.2326 - val_loss: 68.0873\n"
     ]
    },
    {
     "data": {
      "text/plain": [
       "<keras.src.callbacks.History at 0x15f86e96850>"
      ]
     },
     "execution_count": 13,
     "metadata": {},
     "output_type": "execute_result"
    }
   ],
   "source": [
    "model.fit(predictors, target, validation_split=0.3, epochs=50,verbose=1)"
   ]
  },
  {
   "cell_type": "code",
   "execution_count": 14,
   "id": "6217e691",
   "metadata": {},
   "outputs": [
    {
     "name": "stdout",
     "output_type": "stream",
     "text": [
      "10/10 [==============================] - 0s 2ms/step - loss: 58.2801\n",
      "10/10 [==============================] - 0s 2ms/step\n"
     ]
    },
    {
     "data": {
      "text/plain": [
       "58.28005599975586"
      ]
     },
     "execution_count": 14,
     "metadata": {},
     "output_type": "execute_result"
    }
   ],
   "source": [
    "loss_val = model.evaluate(X_test, y_test)\n",
    "y_pred = model.predict(X_test)\n",
    "loss_val"
   ]
  },
  {
   "cell_type": "markdown",
   "id": "97b03728",
   "metadata": {},
   "source": [
    "Calculations"
   ]
  },
  {
   "cell_type": "code",
   "execution_count": 15,
   "id": "8293499a",
   "metadata": {},
   "outputs": [
    {
     "name": "stdout",
     "output_type": "stream",
     "text": [
      "58.280055053637284 0.0\n",
      "MSE 1: 55.7879638671875\n",
      "10/10 [==============================] - 0s 2ms/step\n",
      "MSE 2: 50.451416015625\n",
      "10/10 [==============================] - 0s 2ms/step\n",
      "MSE 3: 35.642948150634766\n",
      "10/10 [==============================] - 0s 1ms/step\n",
      "MSE 4: 42.615501403808594\n",
      "10/10 [==============================] - 0s 2ms/step\n",
      "MSE 5: 40.0322265625\n",
      "10/10 [==============================] - 0s 2ms/step\n",
      "MSE 6: 44.619937896728516\n",
      "10/10 [==============================] - 0s 2ms/step\n",
      "MSE 7: 45.18662643432617\n",
      "10/10 [==============================] - 0s 0s/step\n",
      "MSE 8: 40.009498596191406\n",
      "10/10 [==============================] - 0s 2ms/step\n",
      "MSE 9: 37.39181137084961\n",
      "10/10 [==============================] - 0s 2ms/step\n",
      "MSE 10: 40.61905288696289\n",
      "10/10 [==============================] - 0s 2ms/step\n",
      "MSE 11: 35.07411575317383\n",
      "10/10 [==============================] - 0s 2ms/step\n",
      "MSE 12: 35.186275482177734\n",
      "10/10 [==============================] - 0s 2ms/step\n",
      "MSE 13: 40.54734420776367\n",
      "10/10 [==============================] - 0s 0s/step\n",
      "MSE 14: 42.27455139160156\n",
      "10/10 [==============================] - 0s 0s/step\n",
      "MSE 15: 34.297237396240234\n",
      "10/10 [==============================] - 0s 2ms/step\n",
      "MSE 16: 29.142704010009766\n",
      "10/10 [==============================] - 0s 0s/step\n",
      "MSE 17: 32.694278717041016\n",
      "10/10 [==============================] - 0s 0s/step\n",
      "MSE 18: 31.53252410888672\n",
      "10/10 [==============================] - 0s 3ms/step\n",
      "MSE 19: 31.105396270751953\n",
      "10/10 [==============================] - 0s 2ms/step\n",
      "MSE 20: 30.717748641967773\n",
      "10/10 [==============================] - 0s 2ms/step\n",
      "MSE 21: 31.038467407226562\n",
      "10/10 [==============================] - 0s 2ms/step\n",
      "MSE 22: 28.223892211914062\n",
      "10/10 [==============================] - 0s 0s/step\n",
      "MSE 23: 24.49721336364746\n",
      "10/10 [==============================] - 0s 2ms/step\n",
      "MSE 24: 26.247121810913086\n",
      "10/10 [==============================] - 0s 2ms/step\n",
      "MSE 25: 31.167247772216797\n",
      "10/10 [==============================] - 0s 2ms/step\n",
      "MSE 26: 31.51193618774414\n",
      "10/10 [==============================] - 0s 2ms/step\n",
      "MSE 27: 24.445188522338867\n",
      "10/10 [==============================] - 0s 0s/step\n",
      "MSE 28: 25.245946884155273\n",
      "10/10 [==============================] - 0s 2ms/step\n",
      "MSE 29: 31.666959762573242\n",
      "10/10 [==============================] - 0s 0s/step\n",
      "MSE 30: 26.238967895507812\n",
      "10/10 [==============================] - 0s 2ms/step\n",
      "MSE 31: 24.83612060546875\n",
      "10/10 [==============================] - 0s 0s/step\n",
      "MSE 32: 27.980554580688477\n",
      "10/10 [==============================] - 0s 2ms/step\n",
      "MSE 33: 24.46761703491211\n",
      "10/10 [==============================] - 0s 0s/step\n",
      "MSE 34: 34.773223876953125\n",
      "10/10 [==============================] - 0s 2ms/step\n",
      "MSE 35: 25.916522979736328\n",
      "10/10 [==============================] - 0s 2ms/step\n",
      "MSE 36: 29.345064163208008\n",
      "10/10 [==============================] - 0s 2ms/step\n",
      "MSE 37: 20.532764434814453\n",
      "10/10 [==============================] - 0s 2ms/step\n",
      "MSE 38: 25.294570922851562\n",
      "10/10 [==============================] - 0s 945us/step\n",
      "MSE 39: 31.449291229248047\n",
      "10/10 [==============================] - 0s 2ms/step\n",
      "MSE 40: 22.074146270751953\n",
      "10/10 [==============================] - 0s 2ms/step\n",
      "MSE 41: 32.01115417480469\n",
      "10/10 [==============================] - 0s 2ms/step\n",
      "MSE 42: 25.184518814086914\n",
      "10/10 [==============================] - 0s 2ms/step\n",
      "MSE 43: 26.92780303955078\n",
      "10/10 [==============================] - 0s 2ms/step\n",
      "MSE 44: 31.477027893066406\n",
      "10/10 [==============================] - 0s 2ms/step\n",
      "MSE 45: 42.94563674926758\n",
      "10/10 [==============================] - 0s 2ms/step\n",
      "MSE 46: 31.012758255004883\n",
      "10/10 [==============================] - 0s 2ms/step\n",
      "MSE 47: 26.686349868774414\n",
      "10/10 [==============================] - 0s 0s/step\n",
      "MSE 48: 27.579381942749023\n",
      "10/10 [==============================] - 0s 2ms/step\n",
      "MSE 49: 26.607778549194336\n",
      "10/10 [==============================] - 0s 0s/step\n",
      "MSE 50: 27.36778450012207\n",
      "10/10 [==============================] - 0s 2ms/step\n"
     ]
    }
   ],
   "source": [
    "from sklearn.metrics import mean_squared_error\n",
    "mean_square_error = mean_squared_error(y_test, y_pred)\n",
    "mean = np.mean(mean_square_error)\n",
    "standard_deviation = np.std(mean_square_error)\n",
    "print(mean, standard_deviation)\n",
    "\n",
    "mean_squared_errors = []\n",
    "for i in range(0, 50):\n",
    "    X_train, X_test, y_train, y_test = train_test_split(predictors, target, test_size=0.3, random_state=i)\n",
    "    model.fit(X_train, y_train, epochs=50, verbose=0)\n",
    "    MSE = model.evaluate(X_test, y_test, verbose=0)\n",
    "    print(\"MSE \"+str(i+1)+\": \"+str(MSE))\n",
    "    y_pred = model.predict(X_test)\n",
    "    mean_square_error = mean_squared_error(y_test, y_pred)\n",
    "    mean_squared_errors.append(mean_square_error)\n",
    "\n",
    "mean_squared_errors = np.array(mean_squared_errors)\n",
    "mean = np.mean(mean_squared_errors)\n",
    "standard_deviation = np.std(mean_squared_errors)\n"
   ]
  },
  {
   "cell_type": "markdown",
   "id": "a0be4638",
   "metadata": {},
   "source": [
    "Output"
   ]
  },
  {
   "cell_type": "code",
   "execution_count": 16,
   "id": "a834266e",
   "metadata": {},
   "outputs": [
    {
     "name": "stdout",
     "output_type": "stream",
     "text": [
      "\n",
      "\n",
      "Below is the mean and standard deviation of 50 mean squared errors with normalized data. Total number of epochs for each training is: 50\n",
      "\n",
      "Mean: 32.39364278582419\n",
      "Standard Deviation: 7.468349473821813\n"
     ]
    }
   ],
   "source": [
    "print('\\n')\n",
    "print(\"Below is the mean and standard deviation of \" +str(50) + \" mean squared errors with normalized data. Total number of epochs for each training is: \" +str(50) + \"\\n\")\n",
    "print(\"Mean: \"+str(mean))\n",
    "print(\"Standard Deviation: \"+str(standard_deviation))"
   ]
  },
  {
   "cell_type": "markdown",
   "id": "715b1665",
   "metadata": {},
   "source": [
    "The mean of mean squared erorr has reduced compared Part B."
   ]
  }
 ],
 "metadata": {
  "kernelspec": {
   "display_name": "Python 3 (ipykernel)",
   "language": "python",
   "name": "python3"
  },
  "language_info": {
   "codemirror_mode": {
    "name": "ipython",
    "version": 3
   },
   "file_extension": ".py",
   "mimetype": "text/x-python",
   "name": "python",
   "nbconvert_exporter": "python",
   "pygments_lexer": "ipython3",
   "version": "3.11.4"
  }
 },
 "nbformat": 4,
 "nbformat_minor": 5
}
