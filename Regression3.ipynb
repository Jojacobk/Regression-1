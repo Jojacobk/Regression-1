{
 "cells": [
  {
   "cell_type": "markdown",
   "id": "bacc53cc",
   "metadata": {},
   "source": [
    "Installing necessary libraries in Jupyter"
   ]
  },
  {
   "cell_type": "code",
   "execution_count": 1,
   "id": "b1538fe2",
   "metadata": {},
   "outputs": [
    {
     "name": "stdout",
     "output_type": "stream",
     "text": [
      "Requirement already satisfied: pandas in c:\\users\\jo\\anaconda3\\envs\\notebook\\lib\\site-packages (2.1.0)\n",
      "Requirement already satisfied: numpy>=1.23.2 in c:\\users\\jo\\anaconda3\\envs\\notebook\\lib\\site-packages (from pandas) (1.24.3)\n",
      "Requirement already satisfied: python-dateutil>=2.8.2 in c:\\users\\jo\\anaconda3\\envs\\notebook\\lib\\site-packages (from pandas) (2.8.2)\n",
      "Requirement already satisfied: pytz>=2020.1 in c:\\users\\jo\\anaconda3\\envs\\notebook\\lib\\site-packages (from pandas) (2023.3)\n",
      "Requirement already satisfied: tzdata>=2022.1 in c:\\users\\jo\\anaconda3\\envs\\notebook\\lib\\site-packages (from pandas) (2023.3)\n",
      "Requirement already satisfied: six>=1.5 in c:\\users\\jo\\anaconda3\\envs\\notebook\\lib\\site-packages (from python-dateutil>=2.8.2->pandas) (1.16.0)\n",
      "Requirement already satisfied: numpy in c:\\users\\jo\\anaconda3\\envs\\notebook\\lib\\site-packages (1.24.3)\n",
      "Requirement already satisfied: tensorflow in c:\\users\\jo\\anaconda3\\envs\\notebook\\lib\\site-packages (2.13.0)\n",
      "Requirement already satisfied: tensorflow-intel==2.13.0 in c:\\users\\jo\\anaconda3\\envs\\notebook\\lib\\site-packages (from tensorflow) (2.13.0)\n",
      "Requirement already satisfied: absl-py>=1.0.0 in c:\\users\\jo\\anaconda3\\envs\\notebook\\lib\\site-packages (from tensorflow-intel==2.13.0->tensorflow) (1.4.0)\n",
      "Requirement already satisfied: astunparse>=1.6.0 in c:\\users\\jo\\anaconda3\\envs\\notebook\\lib\\site-packages (from tensorflow-intel==2.13.0->tensorflow) (1.6.3)\n",
      "Requirement already satisfied: flatbuffers>=23.1.21 in c:\\users\\jo\\anaconda3\\envs\\notebook\\lib\\site-packages (from tensorflow-intel==2.13.0->tensorflow) (23.5.26)\n",
      "Requirement already satisfied: gast<=0.4.0,>=0.2.1 in c:\\users\\jo\\anaconda3\\envs\\notebook\\lib\\site-packages (from tensorflow-intel==2.13.0->tensorflow) (0.4.0)\n",
      "Requirement already satisfied: google-pasta>=0.1.1 in c:\\users\\jo\\anaconda3\\envs\\notebook\\lib\\site-packages (from tensorflow-intel==2.13.0->tensorflow) (0.2.0)\n",
      "Requirement already satisfied: h5py>=2.9.0 in c:\\users\\jo\\anaconda3\\envs\\notebook\\lib\\site-packages (from tensorflow-intel==2.13.0->tensorflow) (3.9.0)\n",
      "Requirement already satisfied: libclang>=13.0.0 in c:\\users\\jo\\anaconda3\\envs\\notebook\\lib\\site-packages (from tensorflow-intel==2.13.0->tensorflow) (16.0.6)\n",
      "Requirement already satisfied: numpy<=1.24.3,>=1.22 in c:\\users\\jo\\anaconda3\\envs\\notebook\\lib\\site-packages (from tensorflow-intel==2.13.0->tensorflow) (1.24.3)\n",
      "Requirement already satisfied: opt-einsum>=2.3.2 in c:\\users\\jo\\anaconda3\\envs\\notebook\\lib\\site-packages (from tensorflow-intel==2.13.0->tensorflow) (3.3.0)\n",
      "Requirement already satisfied: packaging in c:\\users\\jo\\anaconda3\\envs\\notebook\\lib\\site-packages (from tensorflow-intel==2.13.0->tensorflow) (23.1)\n",
      "Requirement already satisfied: protobuf!=4.21.0,!=4.21.1,!=4.21.2,!=4.21.3,!=4.21.4,!=4.21.5,<5.0.0dev,>=3.20.3 in c:\\users\\jo\\anaconda3\\envs\\notebook\\lib\\site-packages (from tensorflow-intel==2.13.0->tensorflow) (4.24.2)\n",
      "Requirement already satisfied: setuptools in c:\\users\\jo\\anaconda3\\envs\\notebook\\lib\\site-packages (from tensorflow-intel==2.13.0->tensorflow) (68.0.0)\n",
      "Requirement already satisfied: six>=1.12.0 in c:\\users\\jo\\anaconda3\\envs\\notebook\\lib\\site-packages (from tensorflow-intel==2.13.0->tensorflow) (1.16.0)\n",
      "Requirement already satisfied: termcolor>=1.1.0 in c:\\users\\jo\\anaconda3\\envs\\notebook\\lib\\site-packages (from tensorflow-intel==2.13.0->tensorflow) (2.3.0)\n",
      "Requirement already satisfied: typing-extensions<4.6.0,>=3.6.6 in c:\\users\\jo\\anaconda3\\envs\\notebook\\lib\\site-packages (from tensorflow-intel==2.13.0->tensorflow) (4.5.0)\n",
      "Requirement already satisfied: wrapt>=1.11.0 in c:\\users\\jo\\anaconda3\\envs\\notebook\\lib\\site-packages (from tensorflow-intel==2.13.0->tensorflow) (1.15.0)\n",
      "Requirement already satisfied: grpcio<2.0,>=1.24.3 in c:\\users\\jo\\anaconda3\\envs\\notebook\\lib\\site-packages (from tensorflow-intel==2.13.0->tensorflow) (1.57.0)\n",
      "Requirement already satisfied: tensorboard<2.14,>=2.13 in c:\\users\\jo\\anaconda3\\envs\\notebook\\lib\\site-packages (from tensorflow-intel==2.13.0->tensorflow) (2.13.0)\n",
      "Requirement already satisfied: tensorflow-estimator<2.14,>=2.13.0 in c:\\users\\jo\\anaconda3\\envs\\notebook\\lib\\site-packages (from tensorflow-intel==2.13.0->tensorflow) (2.13.0)\n",
      "Requirement already satisfied: keras<2.14,>=2.13.1 in c:\\users\\jo\\anaconda3\\envs\\notebook\\lib\\site-packages (from tensorflow-intel==2.13.0->tensorflow) (2.13.1)\n",
      "Requirement already satisfied: tensorflow-io-gcs-filesystem>=0.23.1 in c:\\users\\jo\\anaconda3\\envs\\notebook\\lib\\site-packages (from tensorflow-intel==2.13.0->tensorflow) (0.31.0)\n",
      "Requirement already satisfied: wheel<1.0,>=0.23.0 in c:\\users\\jo\\anaconda3\\envs\\notebook\\lib\\site-packages (from astunparse>=1.6.0->tensorflow-intel==2.13.0->tensorflow) (0.38.4)\n",
      "Requirement already satisfied: google-auth<3,>=1.6.3 in c:\\users\\jo\\anaconda3\\envs\\notebook\\lib\\site-packages (from tensorboard<2.14,>=2.13->tensorflow-intel==2.13.0->tensorflow) (2.22.0)\n",
      "Requirement already satisfied: google-auth-oauthlib<1.1,>=0.5 in c:\\users\\jo\\anaconda3\\envs\\notebook\\lib\\site-packages (from tensorboard<2.14,>=2.13->tensorflow-intel==2.13.0->tensorflow) (1.0.0)\n",
      "Requirement already satisfied: markdown>=2.6.8 in c:\\users\\jo\\anaconda3\\envs\\notebook\\lib\\site-packages (from tensorboard<2.14,>=2.13->tensorflow-intel==2.13.0->tensorflow) (3.4.4)\n",
      "Requirement already satisfied: requests<3,>=2.21.0 in c:\\users\\jo\\anaconda3\\envs\\notebook\\lib\\site-packages (from tensorboard<2.14,>=2.13->tensorflow-intel==2.13.0->tensorflow) (2.31.0)\n",
      "Requirement already satisfied: tensorboard-data-server<0.8.0,>=0.7.0 in c:\\users\\jo\\anaconda3\\envs\\notebook\\lib\\site-packages (from tensorboard<2.14,>=2.13->tensorflow-intel==2.13.0->tensorflow) (0.7.1)\n",
      "Requirement already satisfied: werkzeug>=1.0.1 in c:\\users\\jo\\anaconda3\\envs\\notebook\\lib\\site-packages (from tensorboard<2.14,>=2.13->tensorflow-intel==2.13.0->tensorflow) (2.3.7)\n",
      "Requirement already satisfied: cachetools<6.0,>=2.0.0 in c:\\users\\jo\\anaconda3\\envs\\notebook\\lib\\site-packages (from google-auth<3,>=1.6.3->tensorboard<2.14,>=2.13->tensorflow-intel==2.13.0->tensorflow) (5.3.1)\n",
      "Requirement already satisfied: pyasn1-modules>=0.2.1 in c:\\users\\jo\\anaconda3\\envs\\notebook\\lib\\site-packages (from google-auth<3,>=1.6.3->tensorboard<2.14,>=2.13->tensorflow-intel==2.13.0->tensorflow) (0.3.0)\n",
      "Requirement already satisfied: rsa<5,>=3.1.4 in c:\\users\\jo\\anaconda3\\envs\\notebook\\lib\\site-packages (from google-auth<3,>=1.6.3->tensorboard<2.14,>=2.13->tensorflow-intel==2.13.0->tensorflow) (4.9)\n",
      "Requirement already satisfied: urllib3<2.0 in c:\\users\\jo\\anaconda3\\envs\\notebook\\lib\\site-packages (from google-auth<3,>=1.6.3->tensorboard<2.14,>=2.13->tensorflow-intel==2.13.0->tensorflow) (1.26.16)\n",
      "Requirement already satisfied: requests-oauthlib>=0.7.0 in c:\\users\\jo\\anaconda3\\envs\\notebook\\lib\\site-packages (from google-auth-oauthlib<1.1,>=0.5->tensorboard<2.14,>=2.13->tensorflow-intel==2.13.0->tensorflow) (1.3.1)\n",
      "Requirement already satisfied: charset-normalizer<4,>=2 in c:\\users\\jo\\anaconda3\\envs\\notebook\\lib\\site-packages (from requests<3,>=2.21.0->tensorboard<2.14,>=2.13->tensorflow-intel==2.13.0->tensorflow) (3.2.0)\n",
      "Requirement already satisfied: idna<4,>=2.5 in c:\\users\\jo\\anaconda3\\envs\\notebook\\lib\\site-packages (from requests<3,>=2.21.0->tensorboard<2.14,>=2.13->tensorflow-intel==2.13.0->tensorflow) (3.4)\n",
      "Requirement already satisfied: certifi>=2017.4.17 in c:\\users\\jo\\anaconda3\\envs\\notebook\\lib\\site-packages (from requests<3,>=2.21.0->tensorboard<2.14,>=2.13->tensorflow-intel==2.13.0->tensorflow) (2023.7.22)\n",
      "Requirement already satisfied: MarkupSafe>=2.1.1 in c:\\users\\jo\\anaconda3\\envs\\notebook\\lib\\site-packages (from werkzeug>=1.0.1->tensorboard<2.14,>=2.13->tensorflow-intel==2.13.0->tensorflow) (2.1.1)\n",
      "Requirement already satisfied: pyasn1<0.6.0,>=0.4.6 in c:\\users\\jo\\anaconda3\\envs\\notebook\\lib\\site-packages (from pyasn1-modules>=0.2.1->google-auth<3,>=1.6.3->tensorboard<2.14,>=2.13->tensorflow-intel==2.13.0->tensorflow) (0.5.0)\n",
      "Requirement already satisfied: oauthlib>=3.0.0 in c:\\users\\jo\\anaconda3\\envs\\notebook\\lib\\site-packages (from requests-oauthlib>=0.7.0->google-auth-oauthlib<1.1,>=0.5->tensorboard<2.14,>=2.13->tensorflow-intel==2.13.0->tensorflow) (3.2.2)\n",
      "Requirement already satisfied: keras in c:\\users\\jo\\anaconda3\\envs\\notebook\\lib\\site-packages (2.13.1)\n"
     ]
    },
    {
     "name": "stdout",
     "output_type": "stream",
     "text": [
      "Requirement already satisfied: scikit-learn in c:\\users\\jo\\anaconda3\\envs\\notebook\\lib\\site-packages (1.3.0)\n",
      "Requirement already satisfied: numpy>=1.17.3 in c:\\users\\jo\\anaconda3\\envs\\notebook\\lib\\site-packages (from scikit-learn) (1.24.3)\n",
      "Requirement already satisfied: scipy>=1.5.0 in c:\\users\\jo\\anaconda3\\envs\\notebook\\lib\\site-packages (from scikit-learn) (1.11.2)\n",
      "Requirement already satisfied: joblib>=1.1.1 in c:\\users\\jo\\anaconda3\\envs\\notebook\\lib\\site-packages (from scikit-learn) (1.3.2)\n",
      "Requirement already satisfied: threadpoolctl>=2.0.0 in c:\\users\\jo\\anaconda3\\envs\\notebook\\lib\\site-packages (from scikit-learn) (3.2.0)\n"
     ]
    }
   ],
   "source": [
    "!pip install pandas\n",
    "!pip install numpy\n",
    "!pip install tensorflow\n",
    "!pip install keras\n",
    "!pip install scikit-learn"
   ]
  },
  {
   "cell_type": "markdown",
   "id": "1ed8ed92",
   "metadata": {},
   "source": [
    "Importing the libraries"
   ]
  },
  {
   "cell_type": "code",
   "execution_count": 2,
   "id": "496cfc39",
   "metadata": {},
   "outputs": [],
   "source": [
    "import pandas as pd\n",
    "import numpy as np\n",
    "import keras\n",
    "from keras.models import Sequential\n",
    "from keras.layers import Dense\n",
    "from sklearn.model_selection import train_test_split"
   ]
  },
  {
   "cell_type": "markdown",
   "id": "1836f020",
   "metadata": {},
   "source": [
    "Downloading data and reading it into a pandas framework"
   ]
  },
  {
   "cell_type": "code",
   "execution_count": 3,
   "id": "9f96a8bc",
   "metadata": {},
   "outputs": [
    {
     "data": {
      "text/html": [
       "<div>\n",
       "<style scoped>\n",
       "    .dataframe tbody tr th:only-of-type {\n",
       "        vertical-align: middle;\n",
       "    }\n",
       "\n",
       "    .dataframe tbody tr th {\n",
       "        vertical-align: top;\n",
       "    }\n",
       "\n",
       "    .dataframe thead th {\n",
       "        text-align: right;\n",
       "    }\n",
       "</style>\n",
       "<table border=\"1\" class=\"dataframe\">\n",
       "  <thead>\n",
       "    <tr style=\"text-align: right;\">\n",
       "      <th></th>\n",
       "      <th>Cement</th>\n",
       "      <th>Blast Furnace Slag</th>\n",
       "      <th>Fly Ash</th>\n",
       "      <th>Water</th>\n",
       "      <th>Superplasticizer</th>\n",
       "      <th>Coarse Aggregate</th>\n",
       "      <th>Fine Aggregate</th>\n",
       "      <th>Age</th>\n",
       "      <th>Strength</th>\n",
       "    </tr>\n",
       "  </thead>\n",
       "  <tbody>\n",
       "    <tr>\n",
       "      <th>0</th>\n",
       "      <td>540.0</td>\n",
       "      <td>0.0</td>\n",
       "      <td>0.0</td>\n",
       "      <td>162.0</td>\n",
       "      <td>2.5</td>\n",
       "      <td>1040.0</td>\n",
       "      <td>676.0</td>\n",
       "      <td>28</td>\n",
       "      <td>79.99</td>\n",
       "    </tr>\n",
       "    <tr>\n",
       "      <th>1</th>\n",
       "      <td>540.0</td>\n",
       "      <td>0.0</td>\n",
       "      <td>0.0</td>\n",
       "      <td>162.0</td>\n",
       "      <td>2.5</td>\n",
       "      <td>1055.0</td>\n",
       "      <td>676.0</td>\n",
       "      <td>28</td>\n",
       "      <td>61.89</td>\n",
       "    </tr>\n",
       "    <tr>\n",
       "      <th>2</th>\n",
       "      <td>332.5</td>\n",
       "      <td>142.5</td>\n",
       "      <td>0.0</td>\n",
       "      <td>228.0</td>\n",
       "      <td>0.0</td>\n",
       "      <td>932.0</td>\n",
       "      <td>594.0</td>\n",
       "      <td>270</td>\n",
       "      <td>40.27</td>\n",
       "    </tr>\n",
       "    <tr>\n",
       "      <th>3</th>\n",
       "      <td>332.5</td>\n",
       "      <td>142.5</td>\n",
       "      <td>0.0</td>\n",
       "      <td>228.0</td>\n",
       "      <td>0.0</td>\n",
       "      <td>932.0</td>\n",
       "      <td>594.0</td>\n",
       "      <td>365</td>\n",
       "      <td>41.05</td>\n",
       "    </tr>\n",
       "    <tr>\n",
       "      <th>4</th>\n",
       "      <td>198.6</td>\n",
       "      <td>132.4</td>\n",
       "      <td>0.0</td>\n",
       "      <td>192.0</td>\n",
       "      <td>0.0</td>\n",
       "      <td>978.4</td>\n",
       "      <td>825.5</td>\n",
       "      <td>360</td>\n",
       "      <td>44.30</td>\n",
       "    </tr>\n",
       "  </tbody>\n",
       "</table>\n",
       "</div>"
      ],
      "text/plain": [
       "   Cement  Blast Furnace Slag  Fly Ash  Water  Superplasticizer  \\\n",
       "0   540.0                 0.0      0.0  162.0               2.5   \n",
       "1   540.0                 0.0      0.0  162.0               2.5   \n",
       "2   332.5               142.5      0.0  228.0               0.0   \n",
       "3   332.5               142.5      0.0  228.0               0.0   \n",
       "4   198.6               132.4      0.0  192.0               0.0   \n",
       "\n",
       "   Coarse Aggregate  Fine Aggregate  Age  Strength  \n",
       "0            1040.0           676.0   28     79.99  \n",
       "1            1055.0           676.0   28     61.89  \n",
       "2             932.0           594.0  270     40.27  \n",
       "3             932.0           594.0  365     41.05  \n",
       "4             978.4           825.5  360     44.30  "
      ]
     },
     "execution_count": 3,
     "metadata": {},
     "output_type": "execute_result"
    }
   ],
   "source": [
    "cd = pd.read_csv('https://cocl.us/concrete_data')\n",
    "cd.head()"
   ]
  },
  {
   "cell_type": "markdown",
   "id": "6635f3fe",
   "metadata": {},
   "source": [
    "Checking the data points"
   ]
  },
  {
   "cell_type": "code",
   "execution_count": 4,
   "id": "c46604e1",
   "metadata": {},
   "outputs": [
    {
     "name": "stdout",
     "output_type": "stream",
     "text": [
      "<class 'pandas.core.frame.DataFrame'>\n",
      "RangeIndex: 1030 entries, 0 to 1029\n",
      "Data columns (total 9 columns):\n",
      " #   Column              Non-Null Count  Dtype  \n",
      "---  ------              --------------  -----  \n",
      " 0   Cement              1030 non-null   float64\n",
      " 1   Blast Furnace Slag  1030 non-null   float64\n",
      " 2   Fly Ash             1030 non-null   float64\n",
      " 3   Water               1030 non-null   float64\n",
      " 4   Superplasticizer    1030 non-null   float64\n",
      " 5   Coarse Aggregate    1030 non-null   float64\n",
      " 6   Fine Aggregate      1030 non-null   float64\n",
      " 7   Age                 1030 non-null   int64  \n",
      " 8   Strength            1030 non-null   float64\n",
      "dtypes: float64(8), int64(1)\n",
      "memory usage: 72.6 KB\n"
     ]
    },
    {
     "data": {
      "text/plain": [
       "(1030, 9)"
      ]
     },
     "execution_count": 4,
     "metadata": {},
     "output_type": "execute_result"
    }
   ],
   "source": [
    "cd.info()\n",
    "\n",
    "cd.shape"
   ]
  },
  {
   "cell_type": "markdown",
   "id": "27a2a87f",
   "metadata": {},
   "source": [
    "Searching the dataset for missing values"
   ]
  },
  {
   "cell_type": "code",
   "execution_count": 5,
   "id": "fd549b86",
   "metadata": {},
   "outputs": [
    {
     "data": {
      "text/plain": [
       "Cement                0\n",
       "Blast Furnace Slag    0\n",
       "Fly Ash               0\n",
       "Water                 0\n",
       "Superplasticizer      0\n",
       "Coarse Aggregate      0\n",
       "Fine Aggregate        0\n",
       "Age                   0\n",
       "Strength              0\n",
       "dtype: int64"
      ]
     },
     "execution_count": 5,
     "metadata": {},
     "output_type": "execute_result"
    }
   ],
   "source": [
    "cd.describe()\n",
    "cd.isnull().sum()"
   ]
  },
  {
   "cell_type": "markdown",
   "id": "a93091df",
   "metadata": {},
   "source": [
    "Splitting data into predictors and target"
   ]
  },
  {
   "cell_type": "code",
   "execution_count": 6,
   "id": "7a0d5ba0",
   "metadata": {},
   "outputs": [],
   "source": [
    "cd_columns = cd.columns\n",
    "\n",
    "predictors = cd[cd_columns[cd_columns != 'Strength']] # all columns except Strength\n",
    "target = cd['Strength'] # Strength column"
   ]
  },
  {
   "cell_type": "markdown",
   "id": "acdb03f5",
   "metadata": {},
   "source": [
    "Sanity check of the predictors and target"
   ]
  },
  {
   "cell_type": "code",
   "execution_count": 7,
   "id": "6f12c2c3",
   "metadata": {},
   "outputs": [
    {
     "data": {
      "text/plain": [
       "0    79.99\n",
       "1    61.89\n",
       "2    40.27\n",
       "3    41.05\n",
       "4    44.30\n",
       "Name: Strength, dtype: float64"
      ]
     },
     "execution_count": 7,
     "metadata": {},
     "output_type": "execute_result"
    }
   ],
   "source": [
    "predictors.head()\n",
    "target.head()"
   ]
  },
  {
   "cell_type": "markdown",
   "id": "97b8859c",
   "metadata": {},
   "source": [
    "# Normalising the data"
   ]
  },
  {
   "cell_type": "code",
   "execution_count": 8,
   "id": "b9b2a234",
   "metadata": {},
   "outputs": [
    {
     "data": {
      "text/html": [
       "<div>\n",
       "<style scoped>\n",
       "    .dataframe tbody tr th:only-of-type {\n",
       "        vertical-align: middle;\n",
       "    }\n",
       "\n",
       "    .dataframe tbody tr th {\n",
       "        vertical-align: top;\n",
       "    }\n",
       "\n",
       "    .dataframe thead th {\n",
       "        text-align: right;\n",
       "    }\n",
       "</style>\n",
       "<table border=\"1\" class=\"dataframe\">\n",
       "  <thead>\n",
       "    <tr style=\"text-align: right;\">\n",
       "      <th></th>\n",
       "      <th>Cement</th>\n",
       "      <th>Blast Furnace Slag</th>\n",
       "      <th>Fly Ash</th>\n",
       "      <th>Water</th>\n",
       "      <th>Superplasticizer</th>\n",
       "      <th>Coarse Aggregate</th>\n",
       "      <th>Fine Aggregate</th>\n",
       "      <th>Age</th>\n",
       "    </tr>\n",
       "  </thead>\n",
       "  <tbody>\n",
       "    <tr>\n",
       "      <th>0</th>\n",
       "      <td>2.476712</td>\n",
       "      <td>-0.856472</td>\n",
       "      <td>-0.846733</td>\n",
       "      <td>-0.916319</td>\n",
       "      <td>-0.620147</td>\n",
       "      <td>0.862735</td>\n",
       "      <td>-1.217079</td>\n",
       "      <td>-0.279597</td>\n",
       "    </tr>\n",
       "    <tr>\n",
       "      <th>1</th>\n",
       "      <td>2.476712</td>\n",
       "      <td>-0.856472</td>\n",
       "      <td>-0.846733</td>\n",
       "      <td>-0.916319</td>\n",
       "      <td>-0.620147</td>\n",
       "      <td>1.055651</td>\n",
       "      <td>-1.217079</td>\n",
       "      <td>-0.279597</td>\n",
       "    </tr>\n",
       "    <tr>\n",
       "      <th>2</th>\n",
       "      <td>0.491187</td>\n",
       "      <td>0.795140</td>\n",
       "      <td>-0.846733</td>\n",
       "      <td>2.174405</td>\n",
       "      <td>-1.038638</td>\n",
       "      <td>-0.526262</td>\n",
       "      <td>-2.239829</td>\n",
       "      <td>3.551340</td>\n",
       "    </tr>\n",
       "    <tr>\n",
       "      <th>3</th>\n",
       "      <td>0.491187</td>\n",
       "      <td>0.795140</td>\n",
       "      <td>-0.846733</td>\n",
       "      <td>2.174405</td>\n",
       "      <td>-1.038638</td>\n",
       "      <td>-0.526262</td>\n",
       "      <td>-2.239829</td>\n",
       "      <td>5.055221</td>\n",
       "    </tr>\n",
       "    <tr>\n",
       "      <th>4</th>\n",
       "      <td>-0.790075</td>\n",
       "      <td>0.678079</td>\n",
       "      <td>-0.846733</td>\n",
       "      <td>0.488555</td>\n",
       "      <td>-1.038638</td>\n",
       "      <td>0.070492</td>\n",
       "      <td>0.647569</td>\n",
       "      <td>4.976069</td>\n",
       "    </tr>\n",
       "  </tbody>\n",
       "</table>\n",
       "</div>"
      ],
      "text/plain": [
       "     Cement  Blast Furnace Slag   Fly Ash     Water  Superplasticizer  \\\n",
       "0  2.476712           -0.856472 -0.846733 -0.916319         -0.620147   \n",
       "1  2.476712           -0.856472 -0.846733 -0.916319         -0.620147   \n",
       "2  0.491187            0.795140 -0.846733  2.174405         -1.038638   \n",
       "3  0.491187            0.795140 -0.846733  2.174405         -1.038638   \n",
       "4 -0.790075            0.678079 -0.846733  0.488555         -1.038638   \n",
       "\n",
       "   Coarse Aggregate  Fine Aggregate       Age  \n",
       "0          0.862735       -1.217079 -0.279597  \n",
       "1          1.055651       -1.217079 -0.279597  \n",
       "2         -0.526262       -2.239829  3.551340  \n",
       "3         -0.526262       -2.239829  5.055221  \n",
       "4          0.070492        0.647569  4.976069  "
      ]
     },
     "execution_count": 8,
     "metadata": {},
     "output_type": "execute_result"
    }
   ],
   "source": [
    "predictors_norm = (predictors - predictors.mean()) / predictors.std()\n",
    "predictors_norm.head()"
   ]
  },
  {
   "cell_type": "markdown",
   "id": "3fdf579e",
   "metadata": {},
   "source": [
    "saving the number of predictors to n_cols"
   ]
  },
  {
   "cell_type": "code",
   "execution_count": 9,
   "id": "07a856e8",
   "metadata": {},
   "outputs": [],
   "source": [
    "n_cols = predictors.shape[1]"
   ]
  },
  {
   "cell_type": "markdown",
   "id": "52a1a69e",
   "metadata": {},
   "source": [
    "Defining regression model"
   ]
  },
  {
   "cell_type": "code",
   "execution_count": 10,
   "id": "c7892898",
   "metadata": {},
   "outputs": [],
   "source": [
    "def regression_model():\n",
    "    # create model\n",
    "    model = Sequential()\n",
    "    model.add(Dense(10,activation='relu', input_shape=(n_cols,)))\n",
    "    model.add(Dense(1))\n",
    "    \n",
    "    # compile model\n",
    "    model.compile(optimizer='adam', loss='mean_squared_error')\n",
    "    return model\n",
    "\n",
    "\n"
   ]
  },
  {
   "cell_type": "markdown",
   "id": "12e55785",
   "metadata": {},
   "source": [
    "Train Test Split"
   ]
  },
  {
   "cell_type": "code",
   "execution_count": 11,
   "id": "e9c1f941",
   "metadata": {},
   "outputs": [],
   "source": [
    "X_train, X_test, y_train, y_test = train_test_split(predictors, target, test_size=0.3, random_state=42)"
   ]
  },
  {
   "cell_type": "markdown",
   "id": "98cd0226",
   "metadata": {},
   "source": [
    "Build the model"
   ]
  },
  {
   "cell_type": "code",
   "execution_count": 12,
   "id": "8b010b91",
   "metadata": {},
   "outputs": [],
   "source": [
    "model = regression_model()"
   ]
  },
  {
   "cell_type": "markdown",
   "id": "51d64320",
   "metadata": {},
   "source": [
    "# Increasing epochs to 100"
   ]
  },
  {
   "cell_type": "code",
   "execution_count": 13,
   "id": "ac2d0cc4",
   "metadata": {},
   "outputs": [
    {
     "name": "stdout",
     "output_type": "stream",
     "text": [
      "Epoch 1/100\n",
      "23/23 [==============================] - 1s 9ms/step - loss: 7132.5146 - val_loss: 3282.9548\n",
      "Epoch 2/100\n",
      "23/23 [==============================] - 0s 2ms/step - loss: 3309.8467 - val_loss: 2958.3926\n",
      "Epoch 3/100\n",
      "23/23 [==============================] - 0s 3ms/step - loss: 3024.0142 - val_loss: 2820.9216\n",
      "Epoch 4/100\n",
      "23/23 [==============================] - 0s 3ms/step - loss: 2778.3347 - val_loss: 2593.7227\n",
      "Epoch 5/100\n",
      "23/23 [==============================] - 0s 2ms/step - loss: 2545.6870 - val_loss: 2371.6833\n",
      "Epoch 6/100\n",
      "23/23 [==============================] - 0s 2ms/step - loss: 2332.2522 - val_loss: 2182.6492\n",
      "Epoch 7/100\n",
      "23/23 [==============================] - 0s 3ms/step - loss: 2132.3906 - val_loss: 1967.3317\n",
      "Epoch 8/100\n",
      "23/23 [==============================] - 0s 3ms/step - loss: 1941.7606 - val_loss: 1834.8374\n",
      "Epoch 9/100\n",
      "23/23 [==============================] - 0s 3ms/step - loss: 1751.8102 - val_loss: 1631.7416\n",
      "Epoch 10/100\n",
      "23/23 [==============================] - 0s 3ms/step - loss: 1578.5824 - val_loss: 1495.2812\n",
      "Epoch 11/100\n",
      "23/23 [==============================] - 0s 2ms/step - loss: 1422.0873 - val_loss: 1322.8002\n",
      "Epoch 12/100\n",
      "23/23 [==============================] - 0s 2ms/step - loss: 1289.8988 - val_loss: 1205.9207\n",
      "Epoch 13/100\n",
      "23/23 [==============================] - 0s 4ms/step - loss: 1165.6909 - val_loss: 1113.1248\n",
      "Epoch 14/100\n",
      "23/23 [==============================] - 0s 3ms/step - loss: 1054.0873 - val_loss: 974.6764\n",
      "Epoch 15/100\n",
      "23/23 [==============================] - 0s 2ms/step - loss: 957.5486 - val_loss: 909.4122\n",
      "Epoch 16/100\n",
      "23/23 [==============================] - 0s 2ms/step - loss: 866.9409 - val_loss: 803.2404\n",
      "Epoch 17/100\n",
      "23/23 [==============================] - 0s 2ms/step - loss: 792.0732 - val_loss: 725.8663\n",
      "Epoch 18/100\n",
      "23/23 [==============================] - 0s 2ms/step - loss: 721.9570 - val_loss: 672.7162\n",
      "Epoch 19/100\n",
      "23/23 [==============================] - 0s 2ms/step - loss: 661.9526 - val_loss: 596.8018\n",
      "Epoch 20/100\n",
      "23/23 [==============================] - 0s 3ms/step - loss: 606.4906 - val_loss: 551.0284\n",
      "Epoch 21/100\n",
      "23/23 [==============================] - 0s 3ms/step - loss: 554.6374 - val_loss: 506.2444\n",
      "Epoch 22/100\n",
      "23/23 [==============================] - 0s 2ms/step - loss: 511.7626 - val_loss: 493.0011\n",
      "Epoch 23/100\n",
      "23/23 [==============================] - 0s 3ms/step - loss: 472.9098 - val_loss: 427.0703\n",
      "Epoch 24/100\n",
      "23/23 [==============================] - 0s 3ms/step - loss: 435.7610 - val_loss: 394.0315\n",
      "Epoch 25/100\n",
      "23/23 [==============================] - 0s 3ms/step - loss: 406.5726 - val_loss: 360.8562\n",
      "Epoch 26/100\n",
      "23/23 [==============================] - 0s 2ms/step - loss: 375.2852 - val_loss: 336.3629\n",
      "Epoch 27/100\n",
      "23/23 [==============================] - 0s 3ms/step - loss: 348.4511 - val_loss: 321.6573\n",
      "Epoch 28/100\n",
      "23/23 [==============================] - 0s 2ms/step - loss: 328.0023 - val_loss: 295.6554\n",
      "Epoch 29/100\n",
      "23/23 [==============================] - 0s 2ms/step - loss: 307.2220 - val_loss: 267.2589\n",
      "Epoch 30/100\n",
      "23/23 [==============================] - 0s 3ms/step - loss: 286.7043 - val_loss: 250.4419\n",
      "Epoch 31/100\n",
      "23/23 [==============================] - 0s 3ms/step - loss: 270.7266 - val_loss: 240.4803\n",
      "Epoch 32/100\n",
      "23/23 [==============================] - 0s 3ms/step - loss: 255.9681 - val_loss: 215.6333\n",
      "Epoch 33/100\n",
      "23/23 [==============================] - 0s 2ms/step - loss: 242.8921 - val_loss: 201.4182\n",
      "Epoch 34/100\n",
      "23/23 [==============================] - 0s 3ms/step - loss: 231.0006 - val_loss: 193.7464\n",
      "Epoch 35/100\n",
      "23/23 [==============================] - 0s 3ms/step - loss: 216.7215 - val_loss: 188.1513\n",
      "Epoch 36/100\n",
      "23/23 [==============================] - 0s 3ms/step - loss: 207.3798 - val_loss: 169.6253\n",
      "Epoch 37/100\n",
      "23/23 [==============================] - 0s 3ms/step - loss: 199.4959 - val_loss: 163.0020\n",
      "Epoch 38/100\n",
      "23/23 [==============================] - 0s 2ms/step - loss: 193.0557 - val_loss: 154.1939\n",
      "Epoch 39/100\n",
      "23/23 [==============================] - 0s 3ms/step - loss: 184.0275 - val_loss: 143.6701\n",
      "Epoch 40/100\n",
      "23/23 [==============================] - 0s 2ms/step - loss: 177.2396 - val_loss: 140.5050\n",
      "Epoch 41/100\n",
      "23/23 [==============================] - 0s 2ms/step - loss: 170.0128 - val_loss: 131.7251\n",
      "Epoch 42/100\n",
      "23/23 [==============================] - 0s 2ms/step - loss: 167.4677 - val_loss: 125.3785\n",
      "Epoch 43/100\n",
      "23/23 [==============================] - 0s 3ms/step - loss: 161.9241 - val_loss: 120.6295\n",
      "Epoch 44/100\n",
      "23/23 [==============================] - 0s 3ms/step - loss: 157.7988 - val_loss: 116.8442\n",
      "Epoch 45/100\n",
      "23/23 [==============================] - 0s 2ms/step - loss: 152.3631 - val_loss: 113.1647\n",
      "Epoch 46/100\n",
      "23/23 [==============================] - 0s 3ms/step - loss: 147.4505 - val_loss: 111.3103\n",
      "Epoch 47/100\n",
      "23/23 [==============================] - 0s 3ms/step - loss: 145.1672 - val_loss: 109.7469\n",
      "Epoch 48/100\n",
      "23/23 [==============================] - 0s 3ms/step - loss: 142.4209 - val_loss: 110.6863\n",
      "Epoch 49/100\n",
      "23/23 [==============================] - 0s 2ms/step - loss: 138.1924 - val_loss: 102.4663\n",
      "Epoch 50/100\n",
      "23/23 [==============================] - 0s 2ms/step - loss: 135.0466 - val_loss: 102.7192\n",
      "Epoch 51/100\n",
      "23/23 [==============================] - 0s 3ms/step - loss: 132.6274 - val_loss: 96.2886\n",
      "Epoch 52/100\n",
      "23/23 [==============================] - 0s 2ms/step - loss: 129.8294 - val_loss: 93.4279\n",
      "Epoch 53/100\n",
      "23/23 [==============================] - 0s 3ms/step - loss: 132.7285 - val_loss: 91.6709\n",
      "Epoch 54/100\n",
      "23/23 [==============================] - 0s 3ms/step - loss: 125.9879 - val_loss: 95.9616\n",
      "Epoch 55/100\n",
      "23/23 [==============================] - 0s 2ms/step - loss: 124.6285 - val_loss: 88.6722\n",
      "Epoch 56/100\n",
      "23/23 [==============================] - 0s 3ms/step - loss: 123.5449 - val_loss: 87.5887\n",
      "Epoch 57/100\n",
      "23/23 [==============================] - 0s 2ms/step - loss: 121.0992 - val_loss: 87.8855\n",
      "Epoch 58/100\n",
      "23/23 [==============================] - 0s 2ms/step - loss: 118.3809 - val_loss: 92.6576\n",
      "Epoch 59/100\n",
      "23/23 [==============================] - 0s 3ms/step - loss: 118.5193 - val_loss: 95.9658\n",
      "Epoch 60/100\n",
      "23/23 [==============================] - 0s 2ms/step - loss: 118.4206 - val_loss: 93.9888\n",
      "Epoch 61/100\n",
      "23/23 [==============================] - 0s 3ms/step - loss: 114.7651 - val_loss: 84.9311\n",
      "Epoch 62/100\n",
      "23/23 [==============================] - 0s 2ms/step - loss: 113.4044 - val_loss: 89.0674\n",
      "Epoch 63/100\n",
      "23/23 [==============================] - 0s 2ms/step - loss: 110.9462 - val_loss: 86.9389\n",
      "Epoch 64/100\n",
      "23/23 [==============================] - 0s 3ms/step - loss: 110.1610 - val_loss: 80.9906\n",
      "Epoch 65/100\n",
      "23/23 [==============================] - 0s 2ms/step - loss: 108.7011 - val_loss: 81.2915\n",
      "Epoch 66/100\n",
      "23/23 [==============================] - 0s 3ms/step - loss: 107.7546 - val_loss: 80.6915\n",
      "Epoch 67/100\n",
      "23/23 [==============================] - 0s 3ms/step - loss: 106.3857 - val_loss: 83.8293\n",
      "Epoch 68/100\n",
      "23/23 [==============================] - 0s 2ms/step - loss: 105.8942 - val_loss: 82.9456\n",
      "Epoch 69/100\n",
      "23/23 [==============================] - 0s 3ms/step - loss: 106.2594 - val_loss: 82.4783\n",
      "Epoch 70/100\n",
      "23/23 [==============================] - 0s 2ms/step - loss: 105.8305 - val_loss: 87.6478\n",
      "Epoch 71/100\n",
      "23/23 [==============================] - 0s 2ms/step - loss: 104.8277 - val_loss: 86.5771\n",
      "Epoch 72/100\n",
      "23/23 [==============================] - 0s 3ms/step - loss: 104.4441 - val_loss: 80.9822\n",
      "Epoch 73/100\n",
      "23/23 [==============================] - 0s 2ms/step - loss: 101.3393 - val_loss: 77.3801\n",
      "Epoch 74/100\n",
      "23/23 [==============================] - 0s 3ms/step - loss: 100.6207 - val_loss: 80.5409\n",
      "Epoch 75/100\n",
      "23/23 [==============================] - 0s 3ms/step - loss: 100.0222 - val_loss: 85.5439\n",
      "Epoch 76/100\n",
      "23/23 [==============================] - 0s 2ms/step - loss: 99.3289 - val_loss: 77.3926\n",
      "Epoch 77/100\n",
      "23/23 [==============================] - 0s 3ms/step - loss: 98.6982 - val_loss: 76.4284\n",
      "Epoch 78/100\n",
      "23/23 [==============================] - 0s 2ms/step - loss: 98.3434 - val_loss: 76.5044\n",
      "Epoch 79/100\n",
      "23/23 [==============================] - 0s 2ms/step - loss: 98.3779 - val_loss: 75.4773\n"
     ]
    },
    {
     "name": "stdout",
     "output_type": "stream",
     "text": [
      "Epoch 80/100\n",
      "23/23 [==============================] - 0s 3ms/step - loss: 97.7902 - val_loss: 75.8980\n",
      "Epoch 81/100\n",
      "23/23 [==============================] - 0s 2ms/step - loss: 97.8440 - val_loss: 75.8750\n",
      "Epoch 82/100\n",
      "23/23 [==============================] - 0s 3ms/step - loss: 96.3117 - val_loss: 77.3097\n",
      "Epoch 83/100\n",
      "23/23 [==============================] - 0s 2ms/step - loss: 95.2314 - val_loss: 80.4662\n",
      "Epoch 84/100\n",
      "23/23 [==============================] - 0s 3ms/step - loss: 98.3434 - val_loss: 75.2854\n",
      "Epoch 85/100\n",
      "23/23 [==============================] - 0s 2ms/step - loss: 95.2776 - val_loss: 75.0913\n",
      "Epoch 86/100\n",
      "23/23 [==============================] - 0s 3ms/step - loss: 94.2505 - val_loss: 77.6064\n",
      "Epoch 87/100\n",
      "23/23 [==============================] - 0s 2ms/step - loss: 93.0707 - val_loss: 80.8760\n",
      "Epoch 88/100\n",
      "23/23 [==============================] - 0s 3ms/step - loss: 92.7002 - val_loss: 75.0177\n",
      "Epoch 89/100\n",
      "23/23 [==============================] - 0s 3ms/step - loss: 91.8165 - val_loss: 81.1336\n",
      "Epoch 90/100\n",
      "23/23 [==============================] - 0s 2ms/step - loss: 91.3895 - val_loss: 74.5114\n",
      "Epoch 91/100\n",
      "23/23 [==============================] - 0s 3ms/step - loss: 90.7418 - val_loss: 74.4848\n",
      "Epoch 92/100\n",
      "23/23 [==============================] - 0s 2ms/step - loss: 91.1295 - val_loss: 73.6075\n",
      "Epoch 93/100\n",
      "23/23 [==============================] - 0s 2ms/step - loss: 92.5928 - val_loss: 73.7479\n",
      "Epoch 94/100\n",
      "23/23 [==============================] - 0s 2ms/step - loss: 91.2617 - val_loss: 73.2658\n",
      "Epoch 95/100\n",
      "23/23 [==============================] - 0s 2ms/step - loss: 89.3725 - val_loss: 74.6433\n",
      "Epoch 96/100\n",
      "23/23 [==============================] - 0s 2ms/step - loss: 88.4285 - val_loss: 78.4270\n",
      "Epoch 97/100\n",
      "23/23 [==============================] - 0s 2ms/step - loss: 87.4316 - val_loss: 73.4417\n",
      "Epoch 98/100\n",
      "23/23 [==============================] - 0s 3ms/step - loss: 87.0944 - val_loss: 73.9267\n",
      "Epoch 99/100\n",
      "23/23 [==============================] - 0s 3ms/step - loss: 88.4563 - val_loss: 73.5488\n",
      "Epoch 100/100\n",
      "23/23 [==============================] - 0s 3ms/step - loss: 87.2344 - val_loss: 72.8462\n"
     ]
    },
    {
     "data": {
      "text/plain": [
       "<keras.src.callbacks.History at 0x226d9cf2c10>"
      ]
     },
     "execution_count": 13,
     "metadata": {},
     "output_type": "execute_result"
    }
   ],
   "source": [
    "model.fit(predictors, target, validation_split=0.3, epochs=100,verbose=1)"
   ]
  },
  {
   "cell_type": "code",
   "execution_count": 14,
   "id": "9f75316b",
   "metadata": {},
   "outputs": [
    {
     "name": "stdout",
     "output_type": "stream",
     "text": [
      "10/10 [==============================] - 0s 2ms/step - loss: 77.0561\n",
      "10/10 [==============================] - 0s 0s/step\n"
     ]
    },
    {
     "data": {
      "text/plain": [
       "77.05609893798828"
      ]
     },
     "execution_count": 14,
     "metadata": {},
     "output_type": "execute_result"
    }
   ],
   "source": [
    "loss_val = model.evaluate(X_test, y_test)\n",
    "y_pred = model.predict(X_test)\n",
    "loss_val"
   ]
  },
  {
   "cell_type": "markdown",
   "id": "f85a1d85",
   "metadata": {},
   "source": [
    "Calculations"
   ]
  },
  {
   "cell_type": "code",
   "execution_count": 15,
   "id": "495ff073",
   "metadata": {},
   "outputs": [
    {
     "name": "stdout",
     "output_type": "stream",
     "text": [
      "77.05610809019876 0.0\n",
      "MSE 1: 69.37014770507812\n",
      "10/10 [==============================] - 0s 2ms/step\n",
      "MSE 2: 60.996795654296875\n",
      "10/10 [==============================] - 0s 2ms/step\n",
      "MSE 3: 45.53810119628906\n",
      "10/10 [==============================] - 0s 2ms/step\n",
      "MSE 4: 56.29118728637695\n",
      "10/10 [==============================] - 0s 0s/step\n",
      "MSE 5: 49.995819091796875\n",
      "10/10 [==============================] - 0s 2ms/step\n",
      "MSE 6: 51.032325744628906\n",
      "10/10 [==============================] - 0s 2ms/step\n",
      "MSE 7: 56.03839111328125\n",
      "10/10 [==============================] - 0s 0s/step\n",
      "MSE 8: 44.7096061706543\n",
      "10/10 [==============================] - 0s 2ms/step\n",
      "MSE 9: 48.647132873535156\n",
      "10/10 [==============================] - 0s 2ms/step\n",
      "MSE 10: 53.206539154052734\n",
      "10/10 [==============================] - 0s 1ms/step\n",
      "MSE 11: 47.73983383178711\n",
      "10/10 [==============================] - 0s 2ms/step\n",
      "MSE 12: 47.42783737182617\n",
      "10/10 [==============================] - 0s 2ms/step\n",
      "MSE 13: 58.4913215637207\n",
      "10/10 [==============================] - 0s 0s/step\n",
      "MSE 14: 55.80302047729492\n",
      "10/10 [==============================] - 0s 895us/step\n",
      "MSE 15: 50.26610565185547\n",
      "10/10 [==============================] - 0s 0s/step\n",
      "MSE 16: 44.7545166015625\n",
      "10/10 [==============================] - 0s 2ms/step\n",
      "MSE 17: 49.37379455566406\n",
      "10/10 [==============================] - 0s 2ms/step\n",
      "MSE 18: 50.1807746887207\n",
      "10/10 [==============================] - 0s 2ms/step\n",
      "MSE 19: 42.85901641845703\n",
      "10/10 [==============================] - 0s 2ms/step\n",
      "MSE 20: 46.22053909301758\n",
      "10/10 [==============================] - 0s 0s/step\n",
      "MSE 21: 42.717708587646484\n",
      "10/10 [==============================] - 0s 2ms/step\n",
      "MSE 22: 48.80835723876953\n",
      "10/10 [==============================] - 0s 0s/step\n",
      "MSE 23: 44.88747024536133\n",
      "10/10 [==============================] - 0s 2ms/step\n",
      "MSE 24: 43.79951477050781\n",
      "10/10 [==============================] - 0s 0s/step\n",
      "MSE 25: 45.86064529418945\n",
      "10/10 [==============================] - 0s 2ms/step\n",
      "MSE 26: 47.62229919433594\n",
      "10/10 [==============================] - 0s 2ms/step\n",
      "MSE 27: 48.73956298828125\n",
      "10/10 [==============================] - 0s 2ms/step\n",
      "MSE 28: 44.640499114990234\n",
      "10/10 [==============================] - 0s 2ms/step\n",
      "MSE 29: 52.866783142089844\n",
      "10/10 [==============================] - 0s 2ms/step\n",
      "MSE 30: 47.86539077758789\n",
      "10/10 [==============================] - 0s 2ms/step\n",
      "MSE 31: 50.61176300048828\n",
      "10/10 [==============================] - 0s 2ms/step\n",
      "MSE 32: 40.75032424926758\n",
      "10/10 [==============================] - 0s 2ms/step\n",
      "MSE 33: 45.38697814941406\n",
      "10/10 [==============================] - 0s 2ms/step\n",
      "MSE 34: 48.18507385253906\n",
      "10/10 [==============================] - 0s 2ms/step\n",
      "MSE 35: 43.91764831542969\n",
      "10/10 [==============================] - 0s 2ms/step\n",
      "MSE 36: 50.791446685791016\n",
      "10/10 [==============================] - 0s 2ms/step\n",
      "MSE 37: 49.48823165893555\n",
      "10/10 [==============================] - 0s 2ms/step\n",
      "MSE 38: 52.748321533203125\n",
      "10/10 [==============================] - 0s 0s/step\n",
      "MSE 39: 44.604793548583984\n",
      "10/10 [==============================] - 0s 2ms/step\n",
      "MSE 40: 42.627464294433594\n",
      "10/10 [==============================] - 0s 2ms/step\n",
      "MSE 41: 55.05335235595703\n",
      "10/10 [==============================] - 0s 2ms/step\n",
      "MSE 42: 42.632545471191406\n",
      "10/10 [==============================] - 0s 2ms/step\n",
      "MSE 43: 46.18745803833008\n",
      "10/10 [==============================] - 0s 0s/step\n",
      "MSE 44: 53.138824462890625\n",
      "10/10 [==============================] - 0s 2ms/step\n",
      "MSE 45: 50.770484924316406\n",
      "10/10 [==============================] - 0s 2ms/step\n",
      "MSE 46: 53.049163818359375\n",
      "10/10 [==============================] - 0s 2ms/step\n",
      "MSE 47: 47.1058464050293\n",
      "10/10 [==============================] - 0s 2ms/step\n",
      "MSE 48: 48.19609451293945\n",
      "10/10 [==============================] - 0s 2ms/step\n",
      "MSE 49: 48.53804016113281\n",
      "10/10 [==============================] - 0s 0s/step\n",
      "MSE 50: 48.52207946777344\n",
      "10/10 [==============================] - 0s 2ms/step\n"
     ]
    }
   ],
   "source": [
    "from sklearn.metrics import mean_squared_error\n",
    "mean_square_error = mean_squared_error(y_test, y_pred)\n",
    "mean = np.mean(mean_square_error)\n",
    "standard_deviation = np.std(mean_square_error)\n",
    "print(mean, standard_deviation)\n",
    "\n",
    "mean_squared_errors = []\n",
    "for i in range(0, 50):\n",
    "    X_train, X_test, y_train, y_test = train_test_split(predictors, target, test_size=0.3, random_state=i)\n",
    "    model.fit(X_train, y_train, epochs=100, verbose=0)\n",
    "    MSE = model.evaluate(X_test, y_test, verbose=0)\n",
    "    print(\"MSE \"+str(i+1)+\": \"+str(MSE))\n",
    "    y_pred = model.predict(X_test)\n",
    "    mean_square_error = mean_squared_error(y_test, y_pred)\n",
    "    mean_squared_errors.append(mean_square_error)\n",
    "\n",
    "mean_squared_errors = np.array(mean_squared_errors)\n",
    "mean = np.mean(mean_squared_errors)\n",
    "standard_deviation = np.std(mean_squared_errors)\n"
   ]
  },
  {
   "cell_type": "markdown",
   "id": "97c24a73",
   "metadata": {},
   "source": [
    "Output"
   ]
  },
  {
   "cell_type": "code",
   "execution_count": 16,
   "id": "b8747064",
   "metadata": {},
   "outputs": [
    {
     "name": "stdout",
     "output_type": "stream",
     "text": [
      "\n",
      "\n",
      "Below is the mean and standard deviation of 50 mean squared errors with normalized data. Total number of epochs for each training is: 100\n",
      "\n",
      "Mean: 49.181138333092264\n",
      "Standard Deviation: 5.22469780802744\n"
     ]
    }
   ],
   "source": [
    "print('\\n')\n",
    "print(\"Below is the mean and standard deviation of \" +str(50) + \" mean squared errors with normalized data. Total number of epochs for each training is: \" +str(100) + \"\\n\")\n",
    "print(\"Mean: \"+str(mean))\n",
    "print(\"Standard Deviation: \"+str(standard_deviation))"
   ]
  },
  {
   "cell_type": "raw",
   "id": "f1738716",
   "metadata": {},
   "source": [
    "The mean of mean squared erorr has reduced slightly compared to Part B."
   ]
  }
 ],
 "metadata": {
  "kernelspec": {
   "display_name": "Python 3 (ipykernel)",
   "language": "python",
   "name": "python3"
  },
  "language_info": {
   "codemirror_mode": {
    "name": "ipython",
    "version": 3
   },
   "file_extension": ".py",
   "mimetype": "text/x-python",
   "name": "python",
   "nbconvert_exporter": "python",
   "pygments_lexer": "ipython3",
   "version": "3.11.4"
  }
 },
 "nbformat": 4,
 "nbformat_minor": 5
}
