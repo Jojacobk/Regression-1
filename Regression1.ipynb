{
 "cells": [
  {
   "cell_type": "markdown",
   "id": "62329d0a",
   "metadata": {},
   "source": [
    "Installing necessary libraries in Jupyter"
   ]
  },
  {
   "cell_type": "code",
   "execution_count": 1,
   "id": "6d3cd8ba",
   "metadata": {},
   "outputs": [
    {
     "name": "stdout",
     "output_type": "stream",
     "text": [
      "Requirement already satisfied: pandas in c:\\users\\jo\\anaconda3\\envs\\notebook\\lib\\site-packages (2.1.0)\n",
      "Requirement already satisfied: numpy>=1.23.2 in c:\\users\\jo\\anaconda3\\envs\\notebook\\lib\\site-packages (from pandas) (1.24.3)\n",
      "Requirement already satisfied: python-dateutil>=2.8.2 in c:\\users\\jo\\anaconda3\\envs\\notebook\\lib\\site-packages (from pandas) (2.8.2)\n",
      "Requirement already satisfied: pytz>=2020.1 in c:\\users\\jo\\anaconda3\\envs\\notebook\\lib\\site-packages (from pandas) (2023.3)\n",
      "Requirement already satisfied: tzdata>=2022.1 in c:\\users\\jo\\anaconda3\\envs\\notebook\\lib\\site-packages (from pandas) (2023.3)\n",
      "Requirement already satisfied: six>=1.5 in c:\\users\\jo\\anaconda3\\envs\\notebook\\lib\\site-packages (from python-dateutil>=2.8.2->pandas) (1.16.0)\n",
      "Requirement already satisfied: numpy in c:\\users\\jo\\anaconda3\\envs\\notebook\\lib\\site-packages (1.24.3)\n",
      "Requirement already satisfied: tensorflow in c:\\users\\jo\\anaconda3\\envs\\notebook\\lib\\site-packages (2.13.0)\n",
      "Requirement already satisfied: tensorflow-intel==2.13.0 in c:\\users\\jo\\anaconda3\\envs\\notebook\\lib\\site-packages (from tensorflow) (2.13.0)\n",
      "Requirement already satisfied: absl-py>=1.0.0 in c:\\users\\jo\\anaconda3\\envs\\notebook\\lib\\site-packages (from tensorflow-intel==2.13.0->tensorflow) (1.4.0)\n",
      "Requirement already satisfied: astunparse>=1.6.0 in c:\\users\\jo\\anaconda3\\envs\\notebook\\lib\\site-packages (from tensorflow-intel==2.13.0->tensorflow) (1.6.3)\n",
      "Requirement already satisfied: flatbuffers>=23.1.21 in c:\\users\\jo\\anaconda3\\envs\\notebook\\lib\\site-packages (from tensorflow-intel==2.13.0->tensorflow) (23.5.26)\n",
      "Requirement already satisfied: gast<=0.4.0,>=0.2.1 in c:\\users\\jo\\anaconda3\\envs\\notebook\\lib\\site-packages (from tensorflow-intel==2.13.0->tensorflow) (0.4.0)\n",
      "Requirement already satisfied: google-pasta>=0.1.1 in c:\\users\\jo\\anaconda3\\envs\\notebook\\lib\\site-packages (from tensorflow-intel==2.13.0->tensorflow) (0.2.0)\n",
      "Requirement already satisfied: h5py>=2.9.0 in c:\\users\\jo\\anaconda3\\envs\\notebook\\lib\\site-packages (from tensorflow-intel==2.13.0->tensorflow) (3.9.0)\n",
      "Requirement already satisfied: libclang>=13.0.0 in c:\\users\\jo\\anaconda3\\envs\\notebook\\lib\\site-packages (from tensorflow-intel==2.13.0->tensorflow) (16.0.6)\n",
      "Requirement already satisfied: numpy<=1.24.3,>=1.22 in c:\\users\\jo\\anaconda3\\envs\\notebook\\lib\\site-packages (from tensorflow-intel==2.13.0->tensorflow) (1.24.3)\n",
      "Requirement already satisfied: opt-einsum>=2.3.2 in c:\\users\\jo\\anaconda3\\envs\\notebook\\lib\\site-packages (from tensorflow-intel==2.13.0->tensorflow) (3.3.0)\n",
      "Requirement already satisfied: packaging in c:\\users\\jo\\anaconda3\\envs\\notebook\\lib\\site-packages (from tensorflow-intel==2.13.0->tensorflow) (23.1)\n",
      "Requirement already satisfied: protobuf!=4.21.0,!=4.21.1,!=4.21.2,!=4.21.3,!=4.21.4,!=4.21.5,<5.0.0dev,>=3.20.3 in c:\\users\\jo\\anaconda3\\envs\\notebook\\lib\\site-packages (from tensorflow-intel==2.13.0->tensorflow) (4.24.2)\n",
      "Requirement already satisfied: setuptools in c:\\users\\jo\\anaconda3\\envs\\notebook\\lib\\site-packages (from tensorflow-intel==2.13.0->tensorflow) (68.0.0)\n",
      "Requirement already satisfied: six>=1.12.0 in c:\\users\\jo\\anaconda3\\envs\\notebook\\lib\\site-packages (from tensorflow-intel==2.13.0->tensorflow) (1.16.0)\n",
      "Requirement already satisfied: termcolor>=1.1.0 in c:\\users\\jo\\anaconda3\\envs\\notebook\\lib\\site-packages (from tensorflow-intel==2.13.0->tensorflow) (2.3.0)\n",
      "Requirement already satisfied: typing-extensions<4.6.0,>=3.6.6 in c:\\users\\jo\\anaconda3\\envs\\notebook\\lib\\site-packages (from tensorflow-intel==2.13.0->tensorflow) (4.5.0)\n",
      "Requirement already satisfied: wrapt>=1.11.0 in c:\\users\\jo\\anaconda3\\envs\\notebook\\lib\\site-packages (from tensorflow-intel==2.13.0->tensorflow) (1.15.0)\n",
      "Requirement already satisfied: grpcio<2.0,>=1.24.3 in c:\\users\\jo\\anaconda3\\envs\\notebook\\lib\\site-packages (from tensorflow-intel==2.13.0->tensorflow) (1.57.0)\n",
      "Requirement already satisfied: tensorboard<2.14,>=2.13 in c:\\users\\jo\\anaconda3\\envs\\notebook\\lib\\site-packages (from tensorflow-intel==2.13.0->tensorflow) (2.13.0)\n",
      "Requirement already satisfied: tensorflow-estimator<2.14,>=2.13.0 in c:\\users\\jo\\anaconda3\\envs\\notebook\\lib\\site-packages (from tensorflow-intel==2.13.0->tensorflow) (2.13.0)\n",
      "Requirement already satisfied: keras<2.14,>=2.13.1 in c:\\users\\jo\\anaconda3\\envs\\notebook\\lib\\site-packages (from tensorflow-intel==2.13.0->tensorflow) (2.13.1)\n",
      "Requirement already satisfied: tensorflow-io-gcs-filesystem>=0.23.1 in c:\\users\\jo\\anaconda3\\envs\\notebook\\lib\\site-packages (from tensorflow-intel==2.13.0->tensorflow) (0.31.0)\n",
      "Requirement already satisfied: wheel<1.0,>=0.23.0 in c:\\users\\jo\\anaconda3\\envs\\notebook\\lib\\site-packages (from astunparse>=1.6.0->tensorflow-intel==2.13.0->tensorflow) (0.38.4)\n",
      "Requirement already satisfied: google-auth<3,>=1.6.3 in c:\\users\\jo\\anaconda3\\envs\\notebook\\lib\\site-packages (from tensorboard<2.14,>=2.13->tensorflow-intel==2.13.0->tensorflow) (2.22.0)\n",
      "Requirement already satisfied: google-auth-oauthlib<1.1,>=0.5 in c:\\users\\jo\\anaconda3\\envs\\notebook\\lib\\site-packages (from tensorboard<2.14,>=2.13->tensorflow-intel==2.13.0->tensorflow) (1.0.0)\n",
      "Requirement already satisfied: markdown>=2.6.8 in c:\\users\\jo\\anaconda3\\envs\\notebook\\lib\\site-packages (from tensorboard<2.14,>=2.13->tensorflow-intel==2.13.0->tensorflow) (3.4.4)\n",
      "Requirement already satisfied: requests<3,>=2.21.0 in c:\\users\\jo\\anaconda3\\envs\\notebook\\lib\\site-packages (from tensorboard<2.14,>=2.13->tensorflow-intel==2.13.0->tensorflow) (2.31.0)\n",
      "Requirement already satisfied: tensorboard-data-server<0.8.0,>=0.7.0 in c:\\users\\jo\\anaconda3\\envs\\notebook\\lib\\site-packages (from tensorboard<2.14,>=2.13->tensorflow-intel==2.13.0->tensorflow) (0.7.1)\n",
      "Requirement already satisfied: werkzeug>=1.0.1 in c:\\users\\jo\\anaconda3\\envs\\notebook\\lib\\site-packages (from tensorboard<2.14,>=2.13->tensorflow-intel==2.13.0->tensorflow) (2.3.7)\n",
      "Requirement already satisfied: cachetools<6.0,>=2.0.0 in c:\\users\\jo\\anaconda3\\envs\\notebook\\lib\\site-packages (from google-auth<3,>=1.6.3->tensorboard<2.14,>=2.13->tensorflow-intel==2.13.0->tensorflow) (5.3.1)\n",
      "Requirement already satisfied: pyasn1-modules>=0.2.1 in c:\\users\\jo\\anaconda3\\envs\\notebook\\lib\\site-packages (from google-auth<3,>=1.6.3->tensorboard<2.14,>=2.13->tensorflow-intel==2.13.0->tensorflow) (0.3.0)\n",
      "Requirement already satisfied: rsa<5,>=3.1.4 in c:\\users\\jo\\anaconda3\\envs\\notebook\\lib\\site-packages (from google-auth<3,>=1.6.3->tensorboard<2.14,>=2.13->tensorflow-intel==2.13.0->tensorflow) (4.9)\n",
      "Requirement already satisfied: urllib3<2.0 in c:\\users\\jo\\anaconda3\\envs\\notebook\\lib\\site-packages (from google-auth<3,>=1.6.3->tensorboard<2.14,>=2.13->tensorflow-intel==2.13.0->tensorflow) (1.26.16)\n",
      "Requirement already satisfied: requests-oauthlib>=0.7.0 in c:\\users\\jo\\anaconda3\\envs\\notebook\\lib\\site-packages (from google-auth-oauthlib<1.1,>=0.5->tensorboard<2.14,>=2.13->tensorflow-intel==2.13.0->tensorflow) (1.3.1)\n",
      "Requirement already satisfied: charset-normalizer<4,>=2 in c:\\users\\jo\\anaconda3\\envs\\notebook\\lib\\site-packages (from requests<3,>=2.21.0->tensorboard<2.14,>=2.13->tensorflow-intel==2.13.0->tensorflow) (3.2.0)\n",
      "Requirement already satisfied: idna<4,>=2.5 in c:\\users\\jo\\anaconda3\\envs\\notebook\\lib\\site-packages (from requests<3,>=2.21.0->tensorboard<2.14,>=2.13->tensorflow-intel==2.13.0->tensorflow) (3.4)\n",
      "Requirement already satisfied: certifi>=2017.4.17 in c:\\users\\jo\\anaconda3\\envs\\notebook\\lib\\site-packages (from requests<3,>=2.21.0->tensorboard<2.14,>=2.13->tensorflow-intel==2.13.0->tensorflow) (2023.7.22)\n",
      "Requirement already satisfied: MarkupSafe>=2.1.1 in c:\\users\\jo\\anaconda3\\envs\\notebook\\lib\\site-packages (from werkzeug>=1.0.1->tensorboard<2.14,>=2.13->tensorflow-intel==2.13.0->tensorflow) (2.1.1)\n",
      "Requirement already satisfied: pyasn1<0.6.0,>=0.4.6 in c:\\users\\jo\\anaconda3\\envs\\notebook\\lib\\site-packages (from pyasn1-modules>=0.2.1->google-auth<3,>=1.6.3->tensorboard<2.14,>=2.13->tensorflow-intel==2.13.0->tensorflow) (0.5.0)\n",
      "Requirement already satisfied: oauthlib>=3.0.0 in c:\\users\\jo\\anaconda3\\envs\\notebook\\lib\\site-packages (from requests-oauthlib>=0.7.0->google-auth-oauthlib<1.1,>=0.5->tensorboard<2.14,>=2.13->tensorflow-intel==2.13.0->tensorflow) (3.2.2)\n",
      "Requirement already satisfied: keras in c:\\users\\jo\\anaconda3\\envs\\notebook\\lib\\site-packages (2.13.1)\n"
     ]
    },
    {
     "name": "stdout",
     "output_type": "stream",
     "text": [
      "Requirement already satisfied: scikit-learn in c:\\users\\jo\\anaconda3\\envs\\notebook\\lib\\site-packages (1.3.0)\n",
      "Requirement already satisfied: numpy>=1.17.3 in c:\\users\\jo\\anaconda3\\envs\\notebook\\lib\\site-packages (from scikit-learn) (1.24.3)\n",
      "Requirement already satisfied: scipy>=1.5.0 in c:\\users\\jo\\anaconda3\\envs\\notebook\\lib\\site-packages (from scikit-learn) (1.11.2)\n",
      "Requirement already satisfied: joblib>=1.1.1 in c:\\users\\jo\\anaconda3\\envs\\notebook\\lib\\site-packages (from scikit-learn) (1.3.2)\n",
      "Requirement already satisfied: threadpoolctl>=2.0.0 in c:\\users\\jo\\anaconda3\\envs\\notebook\\lib\\site-packages (from scikit-learn) (3.2.0)\n"
     ]
    }
   ],
   "source": [
    "!pip install pandas\n",
    "!pip install numpy\n",
    "!pip install tensorflow\n",
    "!pip install keras\n",
    "!pip install scikit-learn"
   ]
  },
  {
   "cell_type": "markdown",
   "id": "6672ae02",
   "metadata": {},
   "source": [
    "Importing the libraries"
   ]
  },
  {
   "cell_type": "code",
   "execution_count": 2,
   "id": "d481f772",
   "metadata": {},
   "outputs": [],
   "source": [
    "import pandas as pd\n",
    "import numpy as np\n",
    "import keras\n",
    "from keras.models import Sequential\n",
    "from keras.layers import Dense\n",
    "from sklearn.model_selection import train_test_split"
   ]
  },
  {
   "cell_type": "markdown",
   "id": "97383608",
   "metadata": {},
   "source": [
    "Downloading data and reading it into a pandas framework"
   ]
  },
  {
   "cell_type": "code",
   "execution_count": 3,
   "id": "38fb0ebf",
   "metadata": {},
   "outputs": [
    {
     "data": {
      "text/html": [
       "<div>\n",
       "<style scoped>\n",
       "    .dataframe tbody tr th:only-of-type {\n",
       "        vertical-align: middle;\n",
       "    }\n",
       "\n",
       "    .dataframe tbody tr th {\n",
       "        vertical-align: top;\n",
       "    }\n",
       "\n",
       "    .dataframe thead th {\n",
       "        text-align: right;\n",
       "    }\n",
       "</style>\n",
       "<table border=\"1\" class=\"dataframe\">\n",
       "  <thead>\n",
       "    <tr style=\"text-align: right;\">\n",
       "      <th></th>\n",
       "      <th>Cement</th>\n",
       "      <th>Blast Furnace Slag</th>\n",
       "      <th>Fly Ash</th>\n",
       "      <th>Water</th>\n",
       "      <th>Superplasticizer</th>\n",
       "      <th>Coarse Aggregate</th>\n",
       "      <th>Fine Aggregate</th>\n",
       "      <th>Age</th>\n",
       "      <th>Strength</th>\n",
       "    </tr>\n",
       "  </thead>\n",
       "  <tbody>\n",
       "    <tr>\n",
       "      <th>0</th>\n",
       "      <td>540.0</td>\n",
       "      <td>0.0</td>\n",
       "      <td>0.0</td>\n",
       "      <td>162.0</td>\n",
       "      <td>2.5</td>\n",
       "      <td>1040.0</td>\n",
       "      <td>676.0</td>\n",
       "      <td>28</td>\n",
       "      <td>79.99</td>\n",
       "    </tr>\n",
       "    <tr>\n",
       "      <th>1</th>\n",
       "      <td>540.0</td>\n",
       "      <td>0.0</td>\n",
       "      <td>0.0</td>\n",
       "      <td>162.0</td>\n",
       "      <td>2.5</td>\n",
       "      <td>1055.0</td>\n",
       "      <td>676.0</td>\n",
       "      <td>28</td>\n",
       "      <td>61.89</td>\n",
       "    </tr>\n",
       "    <tr>\n",
       "      <th>2</th>\n",
       "      <td>332.5</td>\n",
       "      <td>142.5</td>\n",
       "      <td>0.0</td>\n",
       "      <td>228.0</td>\n",
       "      <td>0.0</td>\n",
       "      <td>932.0</td>\n",
       "      <td>594.0</td>\n",
       "      <td>270</td>\n",
       "      <td>40.27</td>\n",
       "    </tr>\n",
       "    <tr>\n",
       "      <th>3</th>\n",
       "      <td>332.5</td>\n",
       "      <td>142.5</td>\n",
       "      <td>0.0</td>\n",
       "      <td>228.0</td>\n",
       "      <td>0.0</td>\n",
       "      <td>932.0</td>\n",
       "      <td>594.0</td>\n",
       "      <td>365</td>\n",
       "      <td>41.05</td>\n",
       "    </tr>\n",
       "    <tr>\n",
       "      <th>4</th>\n",
       "      <td>198.6</td>\n",
       "      <td>132.4</td>\n",
       "      <td>0.0</td>\n",
       "      <td>192.0</td>\n",
       "      <td>0.0</td>\n",
       "      <td>978.4</td>\n",
       "      <td>825.5</td>\n",
       "      <td>360</td>\n",
       "      <td>44.30</td>\n",
       "    </tr>\n",
       "  </tbody>\n",
       "</table>\n",
       "</div>"
      ],
      "text/plain": [
       "   Cement  Blast Furnace Slag  Fly Ash  Water  Superplasticizer  \\\n",
       "0   540.0                 0.0      0.0  162.0               2.5   \n",
       "1   540.0                 0.0      0.0  162.0               2.5   \n",
       "2   332.5               142.5      0.0  228.0               0.0   \n",
       "3   332.5               142.5      0.0  228.0               0.0   \n",
       "4   198.6               132.4      0.0  192.0               0.0   \n",
       "\n",
       "   Coarse Aggregate  Fine Aggregate  Age  Strength  \n",
       "0            1040.0           676.0   28     79.99  \n",
       "1            1055.0           676.0   28     61.89  \n",
       "2             932.0           594.0  270     40.27  \n",
       "3             932.0           594.0  365     41.05  \n",
       "4             978.4           825.5  360     44.30  "
      ]
     },
     "execution_count": 3,
     "metadata": {},
     "output_type": "execute_result"
    }
   ],
   "source": [
    "cd = pd.read_csv('https://cocl.us/concrete_data')\n",
    "cd.head()"
   ]
  },
  {
   "cell_type": "markdown",
   "id": "d4f5c5b4",
   "metadata": {},
   "source": [
    "Checking the data points"
   ]
  },
  {
   "cell_type": "code",
   "execution_count": 4,
   "id": "7f6adf5a",
   "metadata": {},
   "outputs": [
    {
     "name": "stdout",
     "output_type": "stream",
     "text": [
      "<class 'pandas.core.frame.DataFrame'>\n",
      "RangeIndex: 1030 entries, 0 to 1029\n",
      "Data columns (total 9 columns):\n",
      " #   Column              Non-Null Count  Dtype  \n",
      "---  ------              --------------  -----  \n",
      " 0   Cement              1030 non-null   float64\n",
      " 1   Blast Furnace Slag  1030 non-null   float64\n",
      " 2   Fly Ash             1030 non-null   float64\n",
      " 3   Water               1030 non-null   float64\n",
      " 4   Superplasticizer    1030 non-null   float64\n",
      " 5   Coarse Aggregate    1030 non-null   float64\n",
      " 6   Fine Aggregate      1030 non-null   float64\n",
      " 7   Age                 1030 non-null   int64  \n",
      " 8   Strength            1030 non-null   float64\n",
      "dtypes: float64(8), int64(1)\n",
      "memory usage: 72.6 KB\n"
     ]
    },
    {
     "data": {
      "text/plain": [
       "(1030, 9)"
      ]
     },
     "execution_count": 4,
     "metadata": {},
     "output_type": "execute_result"
    }
   ],
   "source": [
    "cd.info()\n",
    "\n",
    "cd.shape"
   ]
  },
  {
   "cell_type": "markdown",
   "id": "0e9a6085",
   "metadata": {},
   "source": [
    "Searching the dataset for missing values"
   ]
  },
  {
   "cell_type": "code",
   "execution_count": 5,
   "id": "2ae67dba",
   "metadata": {},
   "outputs": [
    {
     "data": {
      "text/plain": [
       "Cement                0\n",
       "Blast Furnace Slag    0\n",
       "Fly Ash               0\n",
       "Water                 0\n",
       "Superplasticizer      0\n",
       "Coarse Aggregate      0\n",
       "Fine Aggregate        0\n",
       "Age                   0\n",
       "Strength              0\n",
       "dtype: int64"
      ]
     },
     "execution_count": 5,
     "metadata": {},
     "output_type": "execute_result"
    }
   ],
   "source": [
    "cd.describe()\n",
    "cd.isnull().sum()"
   ]
  },
  {
   "cell_type": "markdown",
   "id": "369f567c",
   "metadata": {},
   "source": [
    "Splitting data into predictors and target"
   ]
  },
  {
   "cell_type": "code",
   "execution_count": 6,
   "id": "241416b7",
   "metadata": {},
   "outputs": [],
   "source": [
    "cd_columns = cd.columns\n",
    "\n",
    "predictors = cd[cd_columns[cd_columns != 'Strength']] # all columns except Strength\n",
    "target = cd['Strength'] # Strength column"
   ]
  },
  {
   "cell_type": "markdown",
   "id": "15888a21",
   "metadata": {},
   "source": [
    "Sanity check of the predictors and target"
   ]
  },
  {
   "cell_type": "code",
   "execution_count": 7,
   "id": "ffb07f01",
   "metadata": {},
   "outputs": [
    {
     "data": {
      "text/plain": [
       "0    79.99\n",
       "1    61.89\n",
       "2    40.27\n",
       "3    41.05\n",
       "4    44.30\n",
       "Name: Strength, dtype: float64"
      ]
     },
     "execution_count": 7,
     "metadata": {},
     "output_type": "execute_result"
    }
   ],
   "source": [
    "predictors.head()\n",
    "target.head()"
   ]
  },
  {
   "cell_type": "markdown",
   "id": "5014356e",
   "metadata": {},
   "source": [
    "saving the number of predictors to n_cols"
   ]
  },
  {
   "cell_type": "code",
   "execution_count": 8,
   "id": "56ac8e8f",
   "metadata": {},
   "outputs": [],
   "source": [
    "n_cols = predictors.shape[1]"
   ]
  },
  {
   "cell_type": "markdown",
   "id": "a9c8c5ec",
   "metadata": {},
   "source": [
    "Defining regression model"
   ]
  },
  {
   "cell_type": "code",
   "execution_count": 9,
   "id": "88f7f67a",
   "metadata": {},
   "outputs": [],
   "source": [
    "def regression_model():\n",
    "    # create model\n",
    "    model = Sequential()\n",
    "    model.add(Dense(10,activation='relu', input_shape=(n_cols,)))\n",
    "    model.add(Dense(1))\n",
    "    \n",
    "    # compile model\n",
    "    model.compile(optimizer='adam', loss='mean_squared_error')\n",
    "    return model\n",
    "\n",
    "\n"
   ]
  },
  {
   "cell_type": "markdown",
   "id": "cd1b9c31",
   "metadata": {},
   "source": [
    "Train Test Split"
   ]
  },
  {
   "cell_type": "code",
   "execution_count": 10,
   "id": "e2b12a8d",
   "metadata": {},
   "outputs": [],
   "source": [
    "X_train, X_test, y_train, y_test = train_test_split(predictors, target, test_size=0.3, random_state=42)"
   ]
  },
  {
   "cell_type": "markdown",
   "id": "ff9be4f1",
   "metadata": {},
   "source": [
    "Build the model"
   ]
  },
  {
   "cell_type": "code",
   "execution_count": 11,
   "id": "348aecfe",
   "metadata": {},
   "outputs": [],
   "source": [
    "model = regression_model()"
   ]
  },
  {
   "cell_type": "markdown",
   "id": "55547771",
   "metadata": {},
   "source": [
    "fit the model"
   ]
  },
  {
   "cell_type": "code",
   "execution_count": 12,
   "id": "09baa565",
   "metadata": {},
   "outputs": [
    {
     "name": "stdout",
     "output_type": "stream",
     "text": [
      "Epoch 1/50\n",
      "23/23 [==============================] - 1s 9ms/step - loss: 50193.2773 - val_loss: 32710.8965\n",
      "Epoch 2/50\n",
      "23/23 [==============================] - 0s 3ms/step - loss: 20863.3789 - val_loss: 11689.9629\n",
      "Epoch 3/50\n",
      "23/23 [==============================] - 0s 2ms/step - loss: 7700.2217 - val_loss: 4161.1499\n",
      "Epoch 4/50\n",
      "23/23 [==============================] - 0s 2ms/step - loss: 3954.0215 - val_loss: 2885.2651\n",
      "Epoch 5/50\n",
      "23/23 [==============================] - 0s 3ms/step - loss: 3390.6296 - val_loss: 2628.7354\n",
      "Epoch 6/50\n",
      "23/23 [==============================] - 0s 3ms/step - loss: 3149.4841 - val_loss: 2458.9934\n",
      "Epoch 7/50\n",
      "23/23 [==============================] - 0s 3ms/step - loss: 2923.4316 - val_loss: 2288.0527\n",
      "Epoch 8/50\n",
      "23/23 [==============================] - 0s 3ms/step - loss: 2706.1660 - val_loss: 2121.7139\n",
      "Epoch 9/50\n",
      "23/23 [==============================] - 0s 4ms/step - loss: 2490.0122 - val_loss: 1958.9076\n",
      "Epoch 10/50\n",
      "23/23 [==============================] - 0s 3ms/step - loss: 2231.9602 - val_loss: 1685.0537\n",
      "Epoch 11/50\n",
      "23/23 [==============================] - 0s 4ms/step - loss: 1801.6509 - val_loss: 1268.0995\n",
      "Epoch 12/50\n",
      "23/23 [==============================] - 0s 2ms/step - loss: 1346.8094 - val_loss: 986.7595\n",
      "Epoch 13/50\n",
      "23/23 [==============================] - 0s 2ms/step - loss: 1068.1954 - val_loss: 790.3859\n",
      "Epoch 14/50\n",
      "23/23 [==============================] - 0s 3ms/step - loss: 889.9976 - val_loss: 645.1818\n",
      "Epoch 15/50\n",
      "23/23 [==============================] - 0s 2ms/step - loss: 744.8066 - val_loss: 534.6137\n",
      "Epoch 16/50\n",
      "23/23 [==============================] - 0s 2ms/step - loss: 627.5938 - val_loss: 429.7625\n",
      "Epoch 17/50\n",
      "23/23 [==============================] - 0s 3ms/step - loss: 525.6762 - val_loss: 344.8113\n",
      "Epoch 18/50\n",
      "23/23 [==============================] - 0s 3ms/step - loss: 446.7264 - val_loss: 278.4799\n",
      "Epoch 19/50\n",
      "23/23 [==============================] - 0s 3ms/step - loss: 383.7925 - val_loss: 233.5723\n",
      "Epoch 20/50\n",
      "23/23 [==============================] - 0s 3ms/step - loss: 335.0980 - val_loss: 190.6743\n",
      "Epoch 21/50\n",
      "23/23 [==============================] - 0s 3ms/step - loss: 294.3021 - val_loss: 161.1940\n",
      "Epoch 22/50\n",
      "23/23 [==============================] - 0s 3ms/step - loss: 264.6796 - val_loss: 148.6340\n",
      "Epoch 23/50\n",
      "23/23 [==============================] - 0s 3ms/step - loss: 241.7464 - val_loss: 126.0370\n",
      "Epoch 24/50\n",
      "23/23 [==============================] - 0s 2ms/step - loss: 225.8425 - val_loss: 113.6709\n",
      "Epoch 25/50\n",
      "23/23 [==============================] - 0s 3ms/step - loss: 212.6326 - val_loss: 125.3528\n",
      "Epoch 26/50\n",
      "23/23 [==============================] - 0s 2ms/step - loss: 202.2064 - val_loss: 107.2402\n",
      "Epoch 27/50\n",
      "23/23 [==============================] - 0s 2ms/step - loss: 195.1647 - val_loss: 110.6317\n",
      "Epoch 28/50\n",
      "23/23 [==============================] - 0s 3ms/step - loss: 190.3711 - val_loss: 110.3204\n",
      "Epoch 29/50\n",
      "23/23 [==============================] - 0s 3ms/step - loss: 184.6570 - val_loss: 112.9338\n",
      "Epoch 30/50\n",
      "23/23 [==============================] - 0s 3ms/step - loss: 180.7644 - val_loss: 122.0590\n",
      "Epoch 31/50\n",
      "23/23 [==============================] - 0s 2ms/step - loss: 178.4623 - val_loss: 119.0075\n",
      "Epoch 32/50\n",
      "23/23 [==============================] - 0s 2ms/step - loss: 175.4764 - val_loss: 114.2863\n",
      "Epoch 33/50\n",
      "23/23 [==============================] - 0s 3ms/step - loss: 173.1517 - val_loss: 123.4915\n",
      "Epoch 34/50\n",
      "23/23 [==============================] - 0s 3ms/step - loss: 171.1697 - val_loss: 117.9624\n",
      "Epoch 35/50\n",
      "23/23 [==============================] - 0s 3ms/step - loss: 169.5143 - val_loss: 115.9125\n",
      "Epoch 36/50\n",
      "23/23 [==============================] - 0s 3ms/step - loss: 167.7851 - val_loss: 113.0903\n",
      "Epoch 37/50\n",
      "23/23 [==============================] - 0s 3ms/step - loss: 167.2354 - val_loss: 116.1455\n",
      "Epoch 38/50\n",
      "23/23 [==============================] - 0s 3ms/step - loss: 164.9620 - val_loss: 125.5135\n",
      "Epoch 39/50\n",
      "23/23 [==============================] - 0s 3ms/step - loss: 165.3636 - val_loss: 114.3908\n",
      "Epoch 40/50\n",
      "23/23 [==============================] - 0s 3ms/step - loss: 162.0912 - val_loss: 125.8966\n",
      "Epoch 41/50\n",
      "23/23 [==============================] - 0s 2ms/step - loss: 162.9984 - val_loss: 124.5907\n",
      "Epoch 42/50\n",
      "23/23 [==============================] - 0s 3ms/step - loss: 162.3800 - val_loss: 128.2441\n",
      "Epoch 43/50\n",
      "23/23 [==============================] - 0s 2ms/step - loss: 160.2277 - val_loss: 110.6379\n",
      "Epoch 44/50\n",
      "23/23 [==============================] - 0s 2ms/step - loss: 157.6750 - val_loss: 107.2349\n",
      "Epoch 45/50\n",
      "23/23 [==============================] - 0s 2ms/step - loss: 157.2670 - val_loss: 110.3080\n",
      "Epoch 46/50\n",
      "23/23 [==============================] - 0s 3ms/step - loss: 155.8772 - val_loss: 138.1208\n",
      "Epoch 47/50\n",
      "23/23 [==============================] - 0s 2ms/step - loss: 156.0032 - val_loss: 108.9704\n",
      "Epoch 48/50\n",
      "23/23 [==============================] - 0s 2ms/step - loss: 154.1204 - val_loss: 108.1765\n",
      "Epoch 49/50\n",
      "23/23 [==============================] - 0s 3ms/step - loss: 153.7270 - val_loss: 115.3527\n",
      "Epoch 50/50\n",
      "23/23 [==============================] - 0s 2ms/step - loss: 150.8449 - val_loss: 105.2225\n"
     ]
    },
    {
     "data": {
      "text/plain": [
       "<keras.src.callbacks.History at 0x12c3d1fde10>"
      ]
     },
     "execution_count": 12,
     "metadata": {},
     "output_type": "execute_result"
    }
   ],
   "source": [
    "model.fit(predictors, target, validation_split=0.3, epochs=50,verbose=1)"
   ]
  },
  {
   "cell_type": "code",
   "execution_count": 13,
   "id": "158d5226",
   "metadata": {},
   "outputs": [
    {
     "name": "stdout",
     "output_type": "stream",
     "text": [
      "10/10 [==============================] - 0s 283us/step - loss: 135.7375\n",
      "10/10 [==============================] - 0s 0s/step\n"
     ]
    },
    {
     "data": {
      "text/plain": [
       "135.73753356933594"
      ]
     },
     "execution_count": 13,
     "metadata": {},
     "output_type": "execute_result"
    }
   ],
   "source": [
    "loss_val = model.evaluate(X_test, y_test)\n",
    "y_pred = model.predict(X_test)\n",
    "loss_val"
   ]
  },
  {
   "cell_type": "markdown",
   "id": "fb96938a",
   "metadata": {},
   "source": [
    "Calculations"
   ]
  },
  {
   "cell_type": "code",
   "execution_count": 14,
   "id": "28ab918b",
   "metadata": {},
   "outputs": [
    {
     "name": "stdout",
     "output_type": "stream",
     "text": [
      "135.73754523786334 0.0\n",
      "MSE 1: 100.10924530029297\n",
      "10/10 [==============================] - 0s 279us/step\n",
      "MSE 2: 125.8611831665039\n",
      "10/10 [==============================] - 0s 2ms/step\n",
      "MSE 3: 109.03079223632812\n",
      "10/10 [==============================] - 0s 2ms/step\n",
      "MSE 4: 127.92274475097656\n",
      "10/10 [==============================] - 0s 2ms/step\n",
      "MSE 5: 120.78428649902344\n",
      "10/10 [==============================] - 0s 2ms/step\n",
      "MSE 6: 109.66625213623047\n",
      "10/10 [==============================] - 0s 2ms/step\n",
      "MSE 7: 134.62599182128906\n",
      "10/10 [==============================] - 0s 0s/step\n",
      "MSE 8: 115.12958526611328\n",
      "10/10 [==============================] - 0s 1ms/step\n",
      "MSE 9: 120.52288055419922\n",
      "10/10 [==============================] - 0s 2ms/step\n",
      "MSE 10: 112.74110412597656\n",
      "10/10 [==============================] - 0s 2ms/step\n",
      "MSE 11: 103.16431427001953\n",
      "10/10 [==============================] - 0s 3ms/step\n",
      "MSE 12: 110.12950134277344\n",
      "10/10 [==============================] - 0s 2ms/step\n",
      "MSE 13: 88.40435791015625\n",
      "10/10 [==============================] - 0s 0s/step\n",
      "MSE 14: 80.14517974853516\n",
      "10/10 [==============================] - 0s 2ms/step\n",
      "MSE 15: 64.03270721435547\n",
      "10/10 [==============================] - 0s 2ms/step\n",
      "MSE 16: 51.6839599609375\n",
      "10/10 [==============================] - 0s 2ms/step\n",
      "MSE 17: 54.252098083496094\n",
      "10/10 [==============================] - 0s 2ms/step\n",
      "MSE 18: 55.69353485107422\n",
      "10/10 [==============================] - 0s 3ms/step\n",
      "MSE 19: 44.62744140625\n",
      "10/10 [==============================] - 0s 0s/step\n",
      "MSE 20: 50.642642974853516\n",
      "10/10 [==============================] - 0s 2ms/step\n",
      "MSE 21: 53.03468704223633\n",
      "10/10 [==============================] - 0s 2ms/step\n",
      "MSE 22: 45.04120635986328\n",
      "10/10 [==============================] - 0s 2ms/step\n",
      "MSE 23: 42.44689178466797\n",
      "10/10 [==============================] - 0s 2ms/step\n",
      "MSE 24: 46.62530517578125\n",
      "10/10 [==============================] - 0s 2ms/step\n",
      "MSE 25: 48.910682678222656\n",
      "10/10 [==============================] - 0s 2ms/step\n",
      "MSE 26: 50.52816390991211\n",
      "10/10 [==============================] - 0s 2ms/step\n",
      "MSE 27: 59.02082061767578\n",
      "10/10 [==============================] - 0s 2ms/step\n",
      "MSE 28: 43.746341705322266\n",
      "10/10 [==============================] - 0s 0s/step\n",
      "MSE 29: 57.34405517578125\n",
      "10/10 [==============================] - 0s 0s/step\n",
      "MSE 30: 49.03889083862305\n",
      "10/10 [==============================] - 0s 0s/step\n",
      "MSE 31: 49.43312454223633\n",
      "10/10 [==============================] - 0s 0s/step\n",
      "MSE 32: 43.1269645690918\n",
      "10/10 [==============================] - 0s 2ms/step\n",
      "MSE 33: 52.283931732177734\n",
      "10/10 [==============================] - 0s 2ms/step\n",
      "MSE 34: 48.53663635253906\n",
      "10/10 [==============================] - 0s 394us/step\n",
      "MSE 35: 47.226783752441406\n",
      "10/10 [==============================] - 0s 2ms/step\n",
      "MSE 36: 56.371978759765625\n",
      "10/10 [==============================] - 0s 2ms/step\n",
      "MSE 37: 50.35511016845703\n",
      "10/10 [==============================] - 0s 2ms/step\n",
      "MSE 38: 49.345062255859375\n",
      "10/10 [==============================] - 0s 1ms/step\n",
      "MSE 39: 45.89457702636719\n",
      "10/10 [==============================] - 0s 0s/step\n",
      "MSE 40: 43.706687927246094\n",
      "10/10 [==============================] - 0s 667us/step\n",
      "MSE 41: 49.664180755615234\n",
      "10/10 [==============================] - 0s 2ms/step\n",
      "MSE 42: 43.81747817993164\n",
      "10/10 [==============================] - 0s 2ms/step\n",
      "MSE 43: 44.02394485473633\n",
      "10/10 [==============================] - 0s 2ms/step\n",
      "MSE 44: 52.04011154174805\n",
      "10/10 [==============================] - 0s 2ms/step\n",
      "MSE 45: 51.81888198852539\n",
      "10/10 [==============================] - 0s 2ms/step\n",
      "MSE 46: 50.58726119995117\n",
      "10/10 [==============================] - 0s 2ms/step\n",
      "MSE 47: 51.28367233276367\n",
      "10/10 [==============================] - 0s 2ms/step\n",
      "MSE 48: 47.890708923339844\n",
      "10/10 [==============================] - 0s 2ms/step\n",
      "MSE 49: 48.15363693237305\n",
      "10/10 [==============================] - 0s 0s/step\n",
      "MSE 50: 50.02589797973633\n",
      "10/10 [==============================] - 0s 2ms/step\n"
     ]
    }
   ],
   "source": [
    "from sklearn.metrics import mean_squared_error\n",
    "mean_square_error = mean_squared_error(y_test, y_pred)\n",
    "mean = np.mean(mean_square_error)\n",
    "standard_deviation = np.std(mean_square_error)\n",
    "print(mean, standard_deviation)\n",
    "\n",
    "mean_squared_errors = []\n",
    "for i in range(0, 50):\n",
    "    X_train, X_test, y_train, y_test = train_test_split(predictors, target, test_size=0.3, random_state=i)\n",
    "    model.fit(X_train, y_train, epochs=50, verbose=0)\n",
    "    MSE = model.evaluate(X_test, y_test, verbose=0)\n",
    "    print(\"MSE \"+str(i+1)+\": \"+str(MSE))\n",
    "    y_pred = model.predict(X_test)\n",
    "    mean_square_error = mean_squared_error(y_test, y_pred)\n",
    "    mean_squared_errors.append(mean_square_error)\n",
    "\n",
    "mean_squared_errors = np.array(mean_squared_errors)\n",
    "mean = np.mean(mean_squared_errors)\n",
    "standard_deviation = np.std(mean_squared_errors)\n"
   ]
  },
  {
   "cell_type": "markdown",
   "id": "5932cf03",
   "metadata": {},
   "source": [
    "Output"
   ]
  },
  {
   "cell_type": "code",
   "execution_count": 15,
   "id": "6ad2468c",
   "metadata": {},
   "outputs": [
    {
     "name": "stdout",
     "output_type": "stream",
     "text": [
      "\n",
      "\n",
      "Below is the mean and standard deviation of 50 mean squared errors with normalized data. Total number of epochs for each training is: 50\n",
      "\n",
      "Mean: 67.00986930221248\n",
      "Standard Deviation: 28.939689518662398\n"
     ]
    }
   ],
   "source": [
    "print('\\n')\n",
    "print(\"Below is the mean and standard deviation of \" +str(50) + \" mean squared errors without normalized data. Total number of epochs for each training is: \" +str(50) + \"\\n\")\n",
    "print(\"Mean: \"+str(mean))\n",
    "print(\"Standard Deviation: \"+str(standard_deviation))"
   ]
  }
 ],
 "metadata": {
  "kernelspec": {
   "display_name": "Python 3 (ipykernel)",
   "language": "python",
   "name": "python3"
  },
  "language_info": {
   "codemirror_mode": {
    "name": "ipython",
    "version": 3
   },
   "file_extension": ".py",
   "mimetype": "text/x-python",
   "name": "python",
   "nbconvert_exporter": "python",
   "pygments_lexer": "ipython3",
   "version": "3.11.4"
  }
 },
 "nbformat": 4,
 "nbformat_minor": 5
}
